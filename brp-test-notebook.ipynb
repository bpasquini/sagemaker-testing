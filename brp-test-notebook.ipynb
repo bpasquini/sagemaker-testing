{
 "cells": [
  {
   "cell_type": "markdown",
   "id": "77a00d49-06e0-4eef-9681-17b2ab9a678b",
   "metadata": {},
   "source": [
    "# Test Code\n"
   ]
  },
  {
   "cell_type": "code",
   "execution_count": 2,
   "id": "7e86025c-f685-4d0d-bb63-0e68f58963cc",
   "metadata": {
    "tags": []
   },
   "outputs": [
    {
     "name": "stdout",
     "output_type": "stream",
     "text": [
      "Hello, SageMaker!\n"
     ]
    }
   ],
   "source": [
    "print(\"Hello, SageMaker!\")"
   ]
  },
  {
   "cell_type": "markdown",
   "id": "cbed373f-d25d-4263-9793-e0efc0210617",
   "metadata": {},
   "source": [
    "# Playing with git"
   ]
  },
  {
   "cell_type": "code",
   "execution_count": 3,
   "id": "ab47b07e-612e-4d82-a61f-0e806709ac37",
   "metadata": {
    "tags": []
   },
   "outputs": [],
   "source": [
    "!git config user.name \"Brian Pasquini\""
   ]
  },
  {
   "cell_type": "code",
   "execution_count": 4,
   "id": "60d8c1fb-a6e7-4371-8275-8e5f1665125e",
   "metadata": {
    "tags": []
   },
   "outputs": [],
   "source": [
    "!git config user.email brian@pitt.edu"
   ]
  },
  {
   "cell_type": "code",
   "execution_count": 8,
   "id": "24b2c3a1-6493-4eb1-8b30-85386b25145d",
   "metadata": {
    "tags": []
   },
   "outputs": [
    {
     "name": "stdout",
     "output_type": "stream",
     "text": [
      "Already up to date.\n"
     ]
    }
   ],
   "source": [
    "!git pull"
   ]
  },
  {
   "cell_type": "code",
   "execution_count": 7,
   "id": "24739e31-8ec3-4ed7-9622-d48f9a0c6cdf",
   "metadata": {
    "tags": []
   },
   "outputs": [
    {
     "name": "stdout",
     "output_type": "stream",
     "text": [
      "On branch main\n",
      "Your branch is up to date with 'origin/main'.\n",
      "\n",
      "nothing to commit, working tree clean\n"
     ]
    }
   ],
   "source": [
    "!git status"
   ]
  },
  {
   "cell_type": "code",
   "execution_count": 2,
   "id": "29b5432b-bdce-474e-8372-8681488eea1b",
   "metadata": {
    "tags": []
   },
   "outputs": [
    {
     "name": "stdout",
     "output_type": "stream",
     "text": [
      "* \u001b[32mmain\u001b[m\n"
     ]
    }
   ],
   "source": [
    "!git branch --list"
   ]
  },
  {
   "cell_type": "markdown",
   "id": "0ef65035-297f-4ccd-aaba-6e4a38c229dd",
   "metadata": {},
   "source": [
    "# Prerequisites (Undocumented)"
   ]
  },
  {
   "cell_type": "markdown",
   "id": "142b695c-8e72-4194-b96c-597b94a62961",
   "metadata": {},
   "source": [
    "## Upgrade pip"
   ]
  },
  {
   "cell_type": "code",
   "execution_count": 50,
   "id": "9864b4fa-faf3-4d6a-a1aa-a2fcd6edd8a0",
   "metadata": {},
   "outputs": [
    {
     "name": "stdout",
     "output_type": "stream",
     "text": [
      "Looking in indexes: https://pypi.org/simple, https://pip.repos.neuron.amazonaws.com\n",
      "Requirement already satisfied: pip in /home/ec2-user/anaconda3/envs/python3/lib/python3.8/site-packages (22.3.1)\n"
     ]
    }
   ],
   "source": [
    "! /home/ec2-user/anaconda3/envs/python3/bin/python -m pip install --upgrade pip"
   ]
  },
  {
   "cell_type": "markdown",
   "id": "e4efdc34-5c65-4948-95ef-235bb48d11e9",
   "metadata": {},
   "source": [
    "## Install sagemaker library"
   ]
  },
  {
   "cell_type": "code",
   "execution_count": 51,
   "id": "ac07b330-7464-472e-a62b-638dd05289bf",
   "metadata": {},
   "outputs": [],
   "source": [
    "! pip install -qU sagemaker"
   ]
  },
  {
   "cell_type": "markdown",
   "id": "4791001b-a01c-4859-a4e2-b231f3e0a6be",
   "metadata": {},
   "source": [
    "# Download, Explore, and Transform a Dataset"
   ]
  },
  {
   "cell_type": "markdown",
   "id": "f29e74ea-ddf5-43de-b848-bc12c8856922",
   "metadata": {},
   "source": [
    "## Load Adult Census Dataset Using SHAP\n"
   ]
  },
  {
   "cell_type": "code",
   "execution_count": 52,
   "id": "4c6d18c8-e87b-4bbb-9c43-80e3e1ae7ccf",
   "metadata": {},
   "outputs": [
    {
     "data": {
      "text/plain": [
       "['Age',\n",
       " 'Workclass',\n",
       " 'Education-Num',\n",
       " 'Marital Status',\n",
       " 'Occupation',\n",
       " 'Relationship',\n",
       " 'Race',\n",
       " 'Sex',\n",
       " 'Capital Gain',\n",
       " 'Capital Loss',\n",
       " 'Hours per week',\n",
       " 'Country']"
      ]
     },
     "execution_count": 52,
     "metadata": {},
     "output_type": "execute_result"
    }
   ],
   "source": [
    "import shap\n",
    "X, y = shap.datasets.adult()\n",
    "X_display, y_display = shap.datasets.adult(display=True)\n",
    "feature_names = list(X.columns)\n",
    "feature_names"
   ]
  },
  {
   "cell_type": "markdown",
   "id": "4e5d9741-fa57-41f8-93f9-206adbb7208b",
   "metadata": {},
   "source": [
    "## Overview the Dataset"
   ]
  },
  {
   "cell_type": "code",
   "execution_count": 53,
   "id": "124e1063-2ec4-4107-985c-4585f5bdbdcc",
   "metadata": {},
   "outputs": [
    {
     "data": {
      "text/html": [
       "<div>\n",
       "<style scoped>\n",
       "    .dataframe tbody tr th:only-of-type {\n",
       "        vertical-align: middle;\n",
       "    }\n",
       "\n",
       "    .dataframe tbody tr th {\n",
       "        vertical-align: top;\n",
       "    }\n",
       "\n",
       "    .dataframe thead th {\n",
       "        text-align: right;\n",
       "    }\n",
       "</style>\n",
       "<table border=\"1\" class=\"dataframe\">\n",
       "  <thead>\n",
       "    <tr style=\"text-align: right;\">\n",
       "      <th></th>\n",
       "      <th>Age</th>\n",
       "      <th>Workclass</th>\n",
       "      <th>Education-Num</th>\n",
       "      <th>Marital Status</th>\n",
       "      <th>Occupation</th>\n",
       "      <th>Relationship</th>\n",
       "      <th>Race</th>\n",
       "      <th>Sex</th>\n",
       "      <th>Capital Gain</th>\n",
       "      <th>Capital Loss</th>\n",
       "      <th>Hours per week</th>\n",
       "      <th>Country</th>\n",
       "    </tr>\n",
       "  </thead>\n",
       "  <tbody>\n",
       "    <tr>\n",
       "      <th>count</th>\n",
       "      <td>32561.000000</td>\n",
       "      <td>32561.000000</td>\n",
       "      <td>32561.000000</td>\n",
       "      <td>32561.000000</td>\n",
       "      <td>32561.000000</td>\n",
       "      <td>32561.000000</td>\n",
       "      <td>32561.000000</td>\n",
       "      <td>32561.000000</td>\n",
       "      <td>32561.000000</td>\n",
       "      <td>32561.000000</td>\n",
       "      <td>32561.000000</td>\n",
       "      <td>32561.000000</td>\n",
       "    </tr>\n",
       "    <tr>\n",
       "      <th>mean</th>\n",
       "      <td>38.581646</td>\n",
       "      <td>3.868892</td>\n",
       "      <td>10.080679</td>\n",
       "      <td>2.611836</td>\n",
       "      <td>6.572740</td>\n",
       "      <td>2.494518</td>\n",
       "      <td>3.665858</td>\n",
       "      <td>0.669205</td>\n",
       "      <td>1077.649170</td>\n",
       "      <td>87.303833</td>\n",
       "      <td>40.437454</td>\n",
       "      <td>36.718866</td>\n",
       "    </tr>\n",
       "    <tr>\n",
       "      <th>std</th>\n",
       "      <td>13.640442</td>\n",
       "      <td>1.455960</td>\n",
       "      <td>2.572562</td>\n",
       "      <td>1.506222</td>\n",
       "      <td>4.228857</td>\n",
       "      <td>1.758232</td>\n",
       "      <td>0.848806</td>\n",
       "      <td>0.470506</td>\n",
       "      <td>7385.911621</td>\n",
       "      <td>403.014771</td>\n",
       "      <td>12.347933</td>\n",
       "      <td>7.823782</td>\n",
       "    </tr>\n",
       "    <tr>\n",
       "      <th>min</th>\n",
       "      <td>17.000000</td>\n",
       "      <td>0.000000</td>\n",
       "      <td>1.000000</td>\n",
       "      <td>0.000000</td>\n",
       "      <td>0.000000</td>\n",
       "      <td>0.000000</td>\n",
       "      <td>0.000000</td>\n",
       "      <td>0.000000</td>\n",
       "      <td>0.000000</td>\n",
       "      <td>0.000000</td>\n",
       "      <td>1.000000</td>\n",
       "      <td>0.000000</td>\n",
       "    </tr>\n",
       "    <tr>\n",
       "      <th>25%</th>\n",
       "      <td>28.000000</td>\n",
       "      <td>4.000000</td>\n",
       "      <td>9.000000</td>\n",
       "      <td>2.000000</td>\n",
       "      <td>3.000000</td>\n",
       "      <td>0.000000</td>\n",
       "      <td>4.000000</td>\n",
       "      <td>0.000000</td>\n",
       "      <td>0.000000</td>\n",
       "      <td>0.000000</td>\n",
       "      <td>40.000000</td>\n",
       "      <td>39.000000</td>\n",
       "    </tr>\n",
       "    <tr>\n",
       "      <th>50%</th>\n",
       "      <td>37.000000</td>\n",
       "      <td>4.000000</td>\n",
       "      <td>10.000000</td>\n",
       "      <td>2.000000</td>\n",
       "      <td>7.000000</td>\n",
       "      <td>3.000000</td>\n",
       "      <td>4.000000</td>\n",
       "      <td>1.000000</td>\n",
       "      <td>0.000000</td>\n",
       "      <td>0.000000</td>\n",
       "      <td>40.000000</td>\n",
       "      <td>39.000000</td>\n",
       "    </tr>\n",
       "    <tr>\n",
       "      <th>75%</th>\n",
       "      <td>48.000000</td>\n",
       "      <td>4.000000</td>\n",
       "      <td>12.000000</td>\n",
       "      <td>4.000000</td>\n",
       "      <td>10.000000</td>\n",
       "      <td>4.000000</td>\n",
       "      <td>4.000000</td>\n",
       "      <td>1.000000</td>\n",
       "      <td>0.000000</td>\n",
       "      <td>0.000000</td>\n",
       "      <td>45.000000</td>\n",
       "      <td>39.000000</td>\n",
       "    </tr>\n",
       "    <tr>\n",
       "      <th>max</th>\n",
       "      <td>90.000000</td>\n",
       "      <td>8.000000</td>\n",
       "      <td>16.000000</td>\n",
       "      <td>6.000000</td>\n",
       "      <td>14.000000</td>\n",
       "      <td>5.000000</td>\n",
       "      <td>4.000000</td>\n",
       "      <td>1.000000</td>\n",
       "      <td>99999.000000</td>\n",
       "      <td>4356.000000</td>\n",
       "      <td>99.000000</td>\n",
       "      <td>41.000000</td>\n",
       "    </tr>\n",
       "  </tbody>\n",
       "</table>\n",
       "</div>"
      ],
      "text/plain": [
       "                Age     Workclass  Education-Num  Marital Status  \\\n",
       "count  32561.000000  32561.000000   32561.000000    32561.000000   \n",
       "mean      38.581646      3.868892      10.080679        2.611836   \n",
       "std       13.640442      1.455960       2.572562        1.506222   \n",
       "min       17.000000      0.000000       1.000000        0.000000   \n",
       "25%       28.000000      4.000000       9.000000        2.000000   \n",
       "50%       37.000000      4.000000      10.000000        2.000000   \n",
       "75%       48.000000      4.000000      12.000000        4.000000   \n",
       "max       90.000000      8.000000      16.000000        6.000000   \n",
       "\n",
       "         Occupation  Relationship          Race           Sex  Capital Gain  \\\n",
       "count  32561.000000  32561.000000  32561.000000  32561.000000  32561.000000   \n",
       "mean       6.572740      2.494518      3.665858      0.669205   1077.649170   \n",
       "std        4.228857      1.758232      0.848806      0.470506   7385.911621   \n",
       "min        0.000000      0.000000      0.000000      0.000000      0.000000   \n",
       "25%        3.000000      0.000000      4.000000      0.000000      0.000000   \n",
       "50%        7.000000      3.000000      4.000000      1.000000      0.000000   \n",
       "75%       10.000000      4.000000      4.000000      1.000000      0.000000   \n",
       "max       14.000000      5.000000      4.000000      1.000000  99999.000000   \n",
       "\n",
       "       Capital Loss  Hours per week       Country  \n",
       "count  32561.000000    32561.000000  32561.000000  \n",
       "mean      87.303833       40.437454     36.718866  \n",
       "std      403.014771       12.347933      7.823782  \n",
       "min        0.000000        1.000000      0.000000  \n",
       "25%        0.000000       40.000000     39.000000  \n",
       "50%        0.000000       40.000000     39.000000  \n",
       "75%        0.000000       45.000000     39.000000  \n",
       "max     4356.000000       99.000000     41.000000  "
      ]
     },
     "metadata": {},
     "output_type": "display_data"
    },
    {
     "data": {
      "image/png": "[encoded data removed]",
      "text/plain": [
       "<Figure size 1440x720 with 12 Axes>"
      ]
     },
     "metadata": {
      "needs_background": "light"
     },
     "output_type": "display_data"
    }
   ],
   "source": [
    "display(X.describe())\n",
    "hist = X.hist(bins=30, sharey=True, figsize=(20, 10))"
   ]
  },
  {
   "cell_type": "markdown",
   "id": "937643c4-5398-49b0-b777-e329259dc2f9",
   "metadata": {},
   "source": [
    "## Split the Dataset into Train, Validation, and Test Datasets"
   ]
  },
  {
   "cell_type": "markdown",
   "id": "9fefc60f-a427-41b4-9ebd-394018f80458",
   "metadata": {},
   "source": [
    "Using Sklearn, split the dataset into a training set and a test set. The training set is used to train the model, while the test set is used to evaluate the performance of the final trained model. The dataset is randomly sorted with the fixed random seed: 80 percent of the dataset for training set and 20 percent of it for a test set."
   ]
  },
  {
   "cell_type": "code",
   "execution_count": 54,
   "id": "de1d4b15-0b7d-4217-9f5e-0322063f6169",
   "metadata": {},
   "outputs": [],
   "source": [
    "from sklearn.model_selection import train_test_split\n",
    "X_train, X_test, y_train, y_test = train_test_split(X, y, test_size=0.2, random_state=1)\n",
    "X_train_display = X_display.loc[X_train.index]"
   ]
  },
  {
   "cell_type": "markdown",
   "id": "1561bdcc-c6cb-4155-b169-7a40fb9d3800",
   "metadata": {},
   "source": [
    "Split the training set to separate out a validation set. The validation set is used to evaluate the performance of the trained model while tuning the model's hyperparameters. 75 percent of the training set becomes the final training set, and the rest is the validation set."
   ]
  },
  {
   "cell_type": "code",
   "execution_count": 55,
   "id": "1490f6bb-3c4c-45c6-97b5-00763ac902de",
   "metadata": {},
   "outputs": [],
   "source": [
    "X_train, X_val, y_train, y_val = train_test_split(X_train, y_train, test_size=0.25, random_state=1)\n",
    "X_train_display = X_display.loc[X_train.index]\n",
    "X_val_display = X_display.loc[X_val.index]"
   ]
  },
  {
   "cell_type": "markdown",
   "id": "c140541b-fd04-4902-b713-9777ae7f2330",
   "metadata": {},
   "source": [
    "Using the pandas package, explicitly align each dataset by concatenating the numeric features with the true labels."
   ]
  },
  {
   "cell_type": "code",
   "execution_count": 56,
   "id": "a8b68792-fb95-4ccb-927a-669f00a27206",
   "metadata": {},
   "outputs": [],
   "source": [
    "import pandas as pd\n",
    "train = pd.concat([pd.Series(y_train, index=X_train.index, name='Income>50K', dtype=int), X_train], axis=1)\n",
    "validation = pd.concat([pd.Series(y_val, index=X_val.index, name='Income>50K', dtype=int), X_val], axis=1)\n",
    "test = pd.concat([pd.Series(y_test, index=X_test.index, name='Income>50K', dtype=int), X_test], axis=1)"
   ]
  },
  {
   "cell_type": "markdown",
   "id": "3acfe643-cf9b-4c42-8bd6-c8f81d99fa09",
   "metadata": {},
   "source": [
    "Check if the dataset is split and structured as expected:"
   ]
  },
  {
   "cell_type": "code",
   "execution_count": 57,
   "id": "cb196458-1156-44cf-a922-385e44ecc6e1",
   "metadata": {},
   "outputs": [
    {
     "data": {
      "text/html": [
       "<div>\n",
       "<style scoped>\n",
       "    .dataframe tbody tr th:only-of-type {\n",
       "        vertical-align: middle;\n",
       "    }\n",
       "\n",
       "    .dataframe tbody tr th {\n",
       "        vertical-align: top;\n",
       "    }\n",
       "\n",
       "    .dataframe thead th {\n",
       "        text-align: right;\n",
       "    }\n",
       "</style>\n",
       "<table border=\"1\" class=\"dataframe\">\n",
       "  <thead>\n",
       "    <tr style=\"text-align: right;\">\n",
       "      <th></th>\n",
       "      <th>Income&gt;50K</th>\n",
       "      <th>Age</th>\n",
       "      <th>Workclass</th>\n",
       "      <th>Education-Num</th>\n",
       "      <th>Marital Status</th>\n",
       "      <th>Occupation</th>\n",
       "      <th>Relationship</th>\n",
       "      <th>Race</th>\n",
       "      <th>Sex</th>\n",
       "      <th>Capital Gain</th>\n",
       "      <th>Capital Loss</th>\n",
       "      <th>Hours per week</th>\n",
       "      <th>Country</th>\n",
       "    </tr>\n",
       "  </thead>\n",
       "  <tbody>\n",
       "    <tr>\n",
       "      <th>9646</th>\n",
       "      <td>0</td>\n",
       "      <td>62.0</td>\n",
       "      <td>6</td>\n",
       "      <td>4.0</td>\n",
       "      <td>6</td>\n",
       "      <td>8</td>\n",
       "      <td>0</td>\n",
       "      <td>4</td>\n",
       "      <td>0</td>\n",
       "      <td>0.0</td>\n",
       "      <td>0.0</td>\n",
       "      <td>66.0</td>\n",
       "      <td>39</td>\n",
       "    </tr>\n",
       "    <tr>\n",
       "      <th>709</th>\n",
       "      <td>0</td>\n",
       "      <td>18.0</td>\n",
       "      <td>4</td>\n",
       "      <td>7.0</td>\n",
       "      <td>4</td>\n",
       "      <td>8</td>\n",
       "      <td>2</td>\n",
       "      <td>4</td>\n",
       "      <td>1</td>\n",
       "      <td>0.0</td>\n",
       "      <td>0.0</td>\n",
       "      <td>25.0</td>\n",
       "      <td>39</td>\n",
       "    </tr>\n",
       "    <tr>\n",
       "      <th>7385</th>\n",
       "      <td>1</td>\n",
       "      <td>25.0</td>\n",
       "      <td>4</td>\n",
       "      <td>13.0</td>\n",
       "      <td>4</td>\n",
       "      <td>5</td>\n",
       "      <td>3</td>\n",
       "      <td>4</td>\n",
       "      <td>1</td>\n",
       "      <td>27828.0</td>\n",
       "      <td>0.0</td>\n",
       "      <td>50.0</td>\n",
       "      <td>39</td>\n",
       "    </tr>\n",
       "    <tr>\n",
       "      <th>16671</th>\n",
       "      <td>0</td>\n",
       "      <td>33.0</td>\n",
       "      <td>4</td>\n",
       "      <td>9.0</td>\n",
       "      <td>2</td>\n",
       "      <td>10</td>\n",
       "      <td>4</td>\n",
       "      <td>4</td>\n",
       "      <td>1</td>\n",
       "      <td>0.0</td>\n",
       "      <td>0.0</td>\n",
       "      <td>40.0</td>\n",
       "      <td>39</td>\n",
       "    </tr>\n",
       "    <tr>\n",
       "      <th>21932</th>\n",
       "      <td>0</td>\n",
       "      <td>36.0</td>\n",
       "      <td>4</td>\n",
       "      <td>7.0</td>\n",
       "      <td>4</td>\n",
       "      <td>7</td>\n",
       "      <td>1</td>\n",
       "      <td>4</td>\n",
       "      <td>0</td>\n",
       "      <td>0.0</td>\n",
       "      <td>0.0</td>\n",
       "      <td>40.0</td>\n",
       "      <td>39</td>\n",
       "    </tr>\n",
       "    <tr>\n",
       "      <th>...</th>\n",
       "      <td>...</td>\n",
       "      <td>...</td>\n",
       "      <td>...</td>\n",
       "      <td>...</td>\n",
       "      <td>...</td>\n",
       "      <td>...</td>\n",
       "      <td>...</td>\n",
       "      <td>...</td>\n",
       "      <td>...</td>\n",
       "      <td>...</td>\n",
       "      <td>...</td>\n",
       "      <td>...</td>\n",
       "      <td>...</td>\n",
       "    </tr>\n",
       "    <tr>\n",
       "      <th>5889</th>\n",
       "      <td>1</td>\n",
       "      <td>39.0</td>\n",
       "      <td>4</td>\n",
       "      <td>13.0</td>\n",
       "      <td>2</td>\n",
       "      <td>10</td>\n",
       "      <td>5</td>\n",
       "      <td>4</td>\n",
       "      <td>0</td>\n",
       "      <td>0.0</td>\n",
       "      <td>0.0</td>\n",
       "      <td>20.0</td>\n",
       "      <td>39</td>\n",
       "    </tr>\n",
       "    <tr>\n",
       "      <th>25723</th>\n",
       "      <td>0</td>\n",
       "      <td>17.0</td>\n",
       "      <td>4</td>\n",
       "      <td>6.0</td>\n",
       "      <td>4</td>\n",
       "      <td>12</td>\n",
       "      <td>3</td>\n",
       "      <td>4</td>\n",
       "      <td>0</td>\n",
       "      <td>0.0</td>\n",
       "      <td>0.0</td>\n",
       "      <td>20.0</td>\n",
       "      <td>39</td>\n",
       "    </tr>\n",
       "    <tr>\n",
       "      <th>29514</th>\n",
       "      <td>0</td>\n",
       "      <td>35.0</td>\n",
       "      <td>4</td>\n",
       "      <td>9.0</td>\n",
       "      <td>4</td>\n",
       "      <td>14</td>\n",
       "      <td>3</td>\n",
       "      <td>4</td>\n",
       "      <td>1</td>\n",
       "      <td>0.0</td>\n",
       "      <td>0.0</td>\n",
       "      <td>40.0</td>\n",
       "      <td>39</td>\n",
       "    </tr>\n",
       "    <tr>\n",
       "      <th>1600</th>\n",
       "      <td>0</td>\n",
       "      <td>30.0</td>\n",
       "      <td>4</td>\n",
       "      <td>7.0</td>\n",
       "      <td>2</td>\n",
       "      <td>3</td>\n",
       "      <td>4</td>\n",
       "      <td>4</td>\n",
       "      <td>1</td>\n",
       "      <td>0.0</td>\n",
       "      <td>0.0</td>\n",
       "      <td>45.0</td>\n",
       "      <td>39</td>\n",
       "    </tr>\n",
       "    <tr>\n",
       "      <th>639</th>\n",
       "      <td>1</td>\n",
       "      <td>52.0</td>\n",
       "      <td>6</td>\n",
       "      <td>16.0</td>\n",
       "      <td>2</td>\n",
       "      <td>10</td>\n",
       "      <td>4</td>\n",
       "      <td>4</td>\n",
       "      <td>1</td>\n",
       "      <td>0.0</td>\n",
       "      <td>0.0</td>\n",
       "      <td>60.0</td>\n",
       "      <td>39</td>\n",
       "    </tr>\n",
       "  </tbody>\n",
       "</table>\n",
       "<p>6513 rows × 13 columns</p>\n",
       "</div>"
      ],
      "text/plain": [
       "       Income>50K   Age  Workclass  Education-Num  Marital Status  Occupation  \\\n",
       "9646            0  62.0          6            4.0               6           8   \n",
       "709             0  18.0          4            7.0               4           8   \n",
       "7385            1  25.0          4           13.0               4           5   \n",
       "16671           0  33.0          4            9.0               2          10   \n",
       "21932           0  36.0          4            7.0               4           7   \n",
       "...           ...   ...        ...            ...             ...         ...   \n",
       "5889            1  39.0          4           13.0               2          10   \n",
       "25723           0  17.0          4            6.0               4          12   \n",
       "29514           0  35.0          4            9.0               4          14   \n",
       "1600            0  30.0          4            7.0               2           3   \n",
       "639             1  52.0          6           16.0               2          10   \n",
       "\n",
       "       Relationship  Race  Sex  Capital Gain  Capital Loss  Hours per week  \\\n",
       "9646              0     4    0           0.0           0.0            66.0   \n",
       "709               2     4    1           0.0           0.0            25.0   \n",
       "7385              3     4    1       27828.0           0.0            50.0   \n",
       "16671             4     4    1           0.0           0.0            40.0   \n",
       "21932             1     4    0           0.0           0.0            40.0   \n",
       "...             ...   ...  ...           ...           ...             ...   \n",
       "5889              5     4    0           0.0           0.0            20.0   \n",
       "25723             3     4    0           0.0           0.0            20.0   \n",
       "29514             3     4    1           0.0           0.0            40.0   \n",
       "1600              4     4    1           0.0           0.0            45.0   \n",
       "639               4     4    1           0.0           0.0            60.0   \n",
       "\n",
       "       Country  \n",
       "9646        39  \n",
       "709         39  \n",
       "7385        39  \n",
       "16671       39  \n",
       "21932       39  \n",
       "...        ...  \n",
       "5889        39  \n",
       "25723       39  \n",
       "29514       39  \n",
       "1600        39  \n",
       "639         39  \n",
       "\n",
       "[6513 rows x 13 columns]"
      ]
     },
     "execution_count": 57,
     "metadata": {},
     "output_type": "execute_result"
    }
   ],
   "source": [
    "test"
   ]
  },
  {
   "cell_type": "code",
   "execution_count": 58,
   "id": "5812da90-82fc-4259-846c-ab56b94e96d8",
   "metadata": {},
   "outputs": [
    {
     "data": {
      "text/html": [
       "<div>\n",
       "<style scoped>\n",
       "    .dataframe tbody tr th:only-of-type {\n",
       "        vertical-align: middle;\n",
       "    }\n",
       "\n",
       "    .dataframe tbody tr th {\n",
       "        vertical-align: top;\n",
       "    }\n",
       "\n",
       "    .dataframe thead th {\n",
       "        text-align: right;\n",
       "    }\n",
       "</style>\n",
       "<table border=\"1\" class=\"dataframe\">\n",
       "  <thead>\n",
       "    <tr style=\"text-align: right;\">\n",
       "      <th></th>\n",
       "      <th>Income&gt;50K</th>\n",
       "      <th>Age</th>\n",
       "      <th>Workclass</th>\n",
       "      <th>Education-Num</th>\n",
       "      <th>Marital Status</th>\n",
       "      <th>Occupation</th>\n",
       "      <th>Relationship</th>\n",
       "      <th>Race</th>\n",
       "      <th>Sex</th>\n",
       "      <th>Capital Gain</th>\n",
       "      <th>Capital Loss</th>\n",
       "      <th>Hours per week</th>\n",
       "      <th>Country</th>\n",
       "    </tr>\n",
       "  </thead>\n",
       "  <tbody>\n",
       "    <tr>\n",
       "      <th>10911</th>\n",
       "      <td>1</td>\n",
       "      <td>47.0</td>\n",
       "      <td>4</td>\n",
       "      <td>9.0</td>\n",
       "      <td>2</td>\n",
       "      <td>3</td>\n",
       "      <td>4</td>\n",
       "      <td>4</td>\n",
       "      <td>1</td>\n",
       "      <td>0.0</td>\n",
       "      <td>0.0</td>\n",
       "      <td>40.0</td>\n",
       "      <td>39</td>\n",
       "    </tr>\n",
       "    <tr>\n",
       "      <th>17852</th>\n",
       "      <td>0</td>\n",
       "      <td>31.0</td>\n",
       "      <td>4</td>\n",
       "      <td>13.0</td>\n",
       "      <td>2</td>\n",
       "      <td>7</td>\n",
       "      <td>4</td>\n",
       "      <td>3</td>\n",
       "      <td>1</td>\n",
       "      <td>0.0</td>\n",
       "      <td>0.0</td>\n",
       "      <td>36.0</td>\n",
       "      <td>26</td>\n",
       "    </tr>\n",
       "    <tr>\n",
       "      <th>29165</th>\n",
       "      <td>1</td>\n",
       "      <td>32.0</td>\n",
       "      <td>4</td>\n",
       "      <td>10.0</td>\n",
       "      <td>2</td>\n",
       "      <td>13</td>\n",
       "      <td>5</td>\n",
       "      <td>4</td>\n",
       "      <td>0</td>\n",
       "      <td>0.0</td>\n",
       "      <td>0.0</td>\n",
       "      <td>32.0</td>\n",
       "      <td>39</td>\n",
       "    </tr>\n",
       "    <tr>\n",
       "      <th>30287</th>\n",
       "      <td>0</td>\n",
       "      <td>58.0</td>\n",
       "      <td>4</td>\n",
       "      <td>9.0</td>\n",
       "      <td>2</td>\n",
       "      <td>3</td>\n",
       "      <td>4</td>\n",
       "      <td>2</td>\n",
       "      <td>1</td>\n",
       "      <td>0.0</td>\n",
       "      <td>0.0</td>\n",
       "      <td>40.0</td>\n",
       "      <td>39</td>\n",
       "    </tr>\n",
       "    <tr>\n",
       "      <th>24019</th>\n",
       "      <td>0</td>\n",
       "      <td>17.0</td>\n",
       "      <td>4</td>\n",
       "      <td>6.0</td>\n",
       "      <td>4</td>\n",
       "      <td>6</td>\n",
       "      <td>3</td>\n",
       "      <td>4</td>\n",
       "      <td>1</td>\n",
       "      <td>0.0</td>\n",
       "      <td>0.0</td>\n",
       "      <td>20.0</td>\n",
       "      <td>39</td>\n",
       "    </tr>\n",
       "    <tr>\n",
       "      <th>...</th>\n",
       "      <td>...</td>\n",
       "      <td>...</td>\n",
       "      <td>...</td>\n",
       "      <td>...</td>\n",
       "      <td>...</td>\n",
       "      <td>...</td>\n",
       "      <td>...</td>\n",
       "      <td>...</td>\n",
       "      <td>...</td>\n",
       "      <td>...</td>\n",
       "      <td>...</td>\n",
       "      <td>...</td>\n",
       "      <td>...</td>\n",
       "    </tr>\n",
       "    <tr>\n",
       "      <th>21168</th>\n",
       "      <td>0</td>\n",
       "      <td>43.0</td>\n",
       "      <td>4</td>\n",
       "      <td>8.0</td>\n",
       "      <td>2</td>\n",
       "      <td>14</td>\n",
       "      <td>4</td>\n",
       "      <td>4</td>\n",
       "      <td>1</td>\n",
       "      <td>0.0</td>\n",
       "      <td>0.0</td>\n",
       "      <td>40.0</td>\n",
       "      <td>39</td>\n",
       "    </tr>\n",
       "    <tr>\n",
       "      <th>6452</th>\n",
       "      <td>0</td>\n",
       "      <td>26.0</td>\n",
       "      <td>4</td>\n",
       "      <td>9.0</td>\n",
       "      <td>4</td>\n",
       "      <td>7</td>\n",
       "      <td>0</td>\n",
       "      <td>4</td>\n",
       "      <td>1</td>\n",
       "      <td>0.0</td>\n",
       "      <td>0.0</td>\n",
       "      <td>52.0</td>\n",
       "      <td>39</td>\n",
       "    </tr>\n",
       "    <tr>\n",
       "      <th>31352</th>\n",
       "      <td>0</td>\n",
       "      <td>32.0</td>\n",
       "      <td>7</td>\n",
       "      <td>14.0</td>\n",
       "      <td>2</td>\n",
       "      <td>10</td>\n",
       "      <td>4</td>\n",
       "      <td>4</td>\n",
       "      <td>1</td>\n",
       "      <td>0.0</td>\n",
       "      <td>0.0</td>\n",
       "      <td>50.0</td>\n",
       "      <td>39</td>\n",
       "    </tr>\n",
       "    <tr>\n",
       "      <th>6575</th>\n",
       "      <td>0</td>\n",
       "      <td>45.0</td>\n",
       "      <td>4</td>\n",
       "      <td>9.0</td>\n",
       "      <td>4</td>\n",
       "      <td>6</td>\n",
       "      <td>0</td>\n",
       "      <td>4</td>\n",
       "      <td>1</td>\n",
       "      <td>0.0</td>\n",
       "      <td>0.0</td>\n",
       "      <td>40.0</td>\n",
       "      <td>39</td>\n",
       "    </tr>\n",
       "    <tr>\n",
       "      <th>23608</th>\n",
       "      <td>0</td>\n",
       "      <td>23.0</td>\n",
       "      <td>4</td>\n",
       "      <td>9.0</td>\n",
       "      <td>4</td>\n",
       "      <td>1</td>\n",
       "      <td>1</td>\n",
       "      <td>4</td>\n",
       "      <td>0</td>\n",
       "      <td>0.0</td>\n",
       "      <td>0.0</td>\n",
       "      <td>40.0</td>\n",
       "      <td>39</td>\n",
       "    </tr>\n",
       "  </tbody>\n",
       "</table>\n",
       "<p>19536 rows × 13 columns</p>\n",
       "</div>"
      ],
      "text/plain": [
       "       Income>50K   Age  Workclass  Education-Num  Marital Status  Occupation  \\\n",
       "10911           1  47.0          4            9.0               2           3   \n",
       "17852           0  31.0          4           13.0               2           7   \n",
       "29165           1  32.0          4           10.0               2          13   \n",
       "30287           0  58.0          4            9.0               2           3   \n",
       "24019           0  17.0          4            6.0               4           6   \n",
       "...           ...   ...        ...            ...             ...         ...   \n",
       "21168           0  43.0          4            8.0               2          14   \n",
       "6452            0  26.0          4            9.0               4           7   \n",
       "31352           0  32.0          7           14.0               2          10   \n",
       "6575            0  45.0          4            9.0               4           6   \n",
       "23608           0  23.0          4            9.0               4           1   \n",
       "\n",
       "       Relationship  Race  Sex  Capital Gain  Capital Loss  Hours per week  \\\n",
       "10911             4     4    1           0.0           0.0            40.0   \n",
       "17852             4     3    1           0.0           0.0            36.0   \n",
       "29165             5     4    0           0.0           0.0            32.0   \n",
       "30287             4     2    1           0.0           0.0            40.0   \n",
       "24019             3     4    1           0.0           0.0            20.0   \n",
       "...             ...   ...  ...           ...           ...             ...   \n",
       "21168             4     4    1           0.0           0.0            40.0   \n",
       "6452              0     4    1           0.0           0.0            52.0   \n",
       "31352             4     4    1           0.0           0.0            50.0   \n",
       "6575              0     4    1           0.0           0.0            40.0   \n",
       "23608             1     4    0           0.0           0.0            40.0   \n",
       "\n",
       "       Country  \n",
       "10911       39  \n",
       "17852       26  \n",
       "29165       39  \n",
       "30287       39  \n",
       "24019       39  \n",
       "...        ...  \n",
       "21168       39  \n",
       "6452        39  \n",
       "31352       39  \n",
       "6575        39  \n",
       "23608       39  \n",
       "\n",
       "[19536 rows x 13 columns]"
      ]
     },
     "execution_count": 58,
     "metadata": {},
     "output_type": "execute_result"
    }
   ],
   "source": [
    "train"
   ]
  },
  {
   "cell_type": "code",
   "execution_count": 59,
   "id": "9c9b487d-f8c7-422b-9828-ad6ef99c67ef",
   "metadata": {},
   "outputs": [
    {
     "data": {
      "text/html": [
       "<div>\n",
       "<style scoped>\n",
       "    .dataframe tbody tr th:only-of-type {\n",
       "        vertical-align: middle;\n",
       "    }\n",
       "\n",
       "    .dataframe tbody tr th {\n",
       "        vertical-align: top;\n",
       "    }\n",
       "\n",
       "    .dataframe thead th {\n",
       "        text-align: right;\n",
       "    }\n",
       "</style>\n",
       "<table border=\"1\" class=\"dataframe\">\n",
       "  <thead>\n",
       "    <tr style=\"text-align: right;\">\n",
       "      <th></th>\n",
       "      <th>Income&gt;50K</th>\n",
       "      <th>Age</th>\n",
       "      <th>Workclass</th>\n",
       "      <th>Education-Num</th>\n",
       "      <th>Marital Status</th>\n",
       "      <th>Occupation</th>\n",
       "      <th>Relationship</th>\n",
       "      <th>Race</th>\n",
       "      <th>Sex</th>\n",
       "      <th>Capital Gain</th>\n",
       "      <th>Capital Loss</th>\n",
       "      <th>Hours per week</th>\n",
       "      <th>Country</th>\n",
       "    </tr>\n",
       "  </thead>\n",
       "  <tbody>\n",
       "    <tr>\n",
       "      <th>16530</th>\n",
       "      <td>0</td>\n",
       "      <td>25.0</td>\n",
       "      <td>4</td>\n",
       "      <td>4.0</td>\n",
       "      <td>2</td>\n",
       "      <td>6</td>\n",
       "      <td>4</td>\n",
       "      <td>4</td>\n",
       "      <td>1</td>\n",
       "      <td>0.0</td>\n",
       "      <td>0.0</td>\n",
       "      <td>40.0</td>\n",
       "      <td>26</td>\n",
       "    </tr>\n",
       "    <tr>\n",
       "      <th>26723</th>\n",
       "      <td>0</td>\n",
       "      <td>41.0</td>\n",
       "      <td>6</td>\n",
       "      <td>9.0</td>\n",
       "      <td>2</td>\n",
       "      <td>5</td>\n",
       "      <td>5</td>\n",
       "      <td>4</td>\n",
       "      <td>0</td>\n",
       "      <td>0.0</td>\n",
       "      <td>0.0</td>\n",
       "      <td>40.0</td>\n",
       "      <td>39</td>\n",
       "    </tr>\n",
       "    <tr>\n",
       "      <th>3338</th>\n",
       "      <td>0</td>\n",
       "      <td>79.0</td>\n",
       "      <td>0</td>\n",
       "      <td>9.0</td>\n",
       "      <td>6</td>\n",
       "      <td>0</td>\n",
       "      <td>0</td>\n",
       "      <td>2</td>\n",
       "      <td>0</td>\n",
       "      <td>0.0</td>\n",
       "      <td>0.0</td>\n",
       "      <td>30.0</td>\n",
       "      <td>39</td>\n",
       "    </tr>\n",
       "    <tr>\n",
       "      <th>19367</th>\n",
       "      <td>1</td>\n",
       "      <td>43.0</td>\n",
       "      <td>2</td>\n",
       "      <td>15.0</td>\n",
       "      <td>2</td>\n",
       "      <td>10</td>\n",
       "      <td>4</td>\n",
       "      <td>4</td>\n",
       "      <td>1</td>\n",
       "      <td>15024.0</td>\n",
       "      <td>0.0</td>\n",
       "      <td>45.0</td>\n",
       "      <td>39</td>\n",
       "    </tr>\n",
       "    <tr>\n",
       "      <th>30274</th>\n",
       "      <td>0</td>\n",
       "      <td>51.0</td>\n",
       "      <td>5</td>\n",
       "      <td>9.0</td>\n",
       "      <td>4</td>\n",
       "      <td>12</td>\n",
       "      <td>2</td>\n",
       "      <td>4</td>\n",
       "      <td>1</td>\n",
       "      <td>0.0</td>\n",
       "      <td>0.0</td>\n",
       "      <td>40.0</td>\n",
       "      <td>0</td>\n",
       "    </tr>\n",
       "    <tr>\n",
       "      <th>...</th>\n",
       "      <td>...</td>\n",
       "      <td>...</td>\n",
       "      <td>...</td>\n",
       "      <td>...</td>\n",
       "      <td>...</td>\n",
       "      <td>...</td>\n",
       "      <td>...</td>\n",
       "      <td>...</td>\n",
       "      <td>...</td>\n",
       "      <td>...</td>\n",
       "      <td>...</td>\n",
       "      <td>...</td>\n",
       "      <td>...</td>\n",
       "    </tr>\n",
       "    <tr>\n",
       "      <th>1604</th>\n",
       "      <td>0</td>\n",
       "      <td>46.0</td>\n",
       "      <td>7</td>\n",
       "      <td>9.0</td>\n",
       "      <td>2</td>\n",
       "      <td>13</td>\n",
       "      <td>4</td>\n",
       "      <td>4</td>\n",
       "      <td>1</td>\n",
       "      <td>0.0</td>\n",
       "      <td>0.0</td>\n",
       "      <td>40.0</td>\n",
       "      <td>39</td>\n",
       "    </tr>\n",
       "    <tr>\n",
       "      <th>5937</th>\n",
       "      <td>1</td>\n",
       "      <td>71.0</td>\n",
       "      <td>4</td>\n",
       "      <td>10.0</td>\n",
       "      <td>6</td>\n",
       "      <td>12</td>\n",
       "      <td>0</td>\n",
       "      <td>4</td>\n",
       "      <td>1</td>\n",
       "      <td>0.0</td>\n",
       "      <td>0.0</td>\n",
       "      <td>35.0</td>\n",
       "      <td>39</td>\n",
       "    </tr>\n",
       "    <tr>\n",
       "      <th>11034</th>\n",
       "      <td>0</td>\n",
       "      <td>36.0</td>\n",
       "      <td>4</td>\n",
       "      <td>9.0</td>\n",
       "      <td>5</td>\n",
       "      <td>14</td>\n",
       "      <td>2</td>\n",
       "      <td>4</td>\n",
       "      <td>1</td>\n",
       "      <td>0.0</td>\n",
       "      <td>0.0</td>\n",
       "      <td>60.0</td>\n",
       "      <td>26</td>\n",
       "    </tr>\n",
       "    <tr>\n",
       "      <th>2819</th>\n",
       "      <td>0</td>\n",
       "      <td>31.0</td>\n",
       "      <td>4</td>\n",
       "      <td>9.0</td>\n",
       "      <td>4</td>\n",
       "      <td>8</td>\n",
       "      <td>0</td>\n",
       "      <td>4</td>\n",
       "      <td>0</td>\n",
       "      <td>0.0</td>\n",
       "      <td>0.0</td>\n",
       "      <td>40.0</td>\n",
       "      <td>39</td>\n",
       "    </tr>\n",
       "    <tr>\n",
       "      <th>14152</th>\n",
       "      <td>1</td>\n",
       "      <td>37.0</td>\n",
       "      <td>4</td>\n",
       "      <td>10.0</td>\n",
       "      <td>2</td>\n",
       "      <td>12</td>\n",
       "      <td>4</td>\n",
       "      <td>4</td>\n",
       "      <td>1</td>\n",
       "      <td>0.0</td>\n",
       "      <td>0.0</td>\n",
       "      <td>50.0</td>\n",
       "      <td>11</td>\n",
       "    </tr>\n",
       "  </tbody>\n",
       "</table>\n",
       "<p>6512 rows × 13 columns</p>\n",
       "</div>"
      ],
      "text/plain": [
       "       Income>50K   Age  Workclass  Education-Num  Marital Status  Occupation  \\\n",
       "16530           0  25.0          4            4.0               2           6   \n",
       "26723           0  41.0          6            9.0               2           5   \n",
       "3338            0  79.0          0            9.0               6           0   \n",
       "19367           1  43.0          2           15.0               2          10   \n",
       "30274           0  51.0          5            9.0               4          12   \n",
       "...           ...   ...        ...            ...             ...         ...   \n",
       "1604            0  46.0          7            9.0               2          13   \n",
       "5937            1  71.0          4           10.0               6          12   \n",
       "11034           0  36.0          4            9.0               5          14   \n",
       "2819            0  31.0          4            9.0               4           8   \n",
       "14152           1  37.0          4           10.0               2          12   \n",
       "\n",
       "       Relationship  Race  Sex  Capital Gain  Capital Loss  Hours per week  \\\n",
       "16530             4     4    1           0.0           0.0            40.0   \n",
       "26723             5     4    0           0.0           0.0            40.0   \n",
       "3338              0     2    0           0.0           0.0            30.0   \n",
       "19367             4     4    1       15024.0           0.0            45.0   \n",
       "30274             2     4    1           0.0           0.0            40.0   \n",
       "...             ...   ...  ...           ...           ...             ...   \n",
       "1604              4     4    1           0.0           0.0            40.0   \n",
       "5937              0     4    1           0.0           0.0            35.0   \n",
       "11034             2     4    1           0.0           0.0            60.0   \n",
       "2819              0     4    0           0.0           0.0            40.0   \n",
       "14152             4     4    1           0.0           0.0            50.0   \n",
       "\n",
       "       Country  \n",
       "16530       26  \n",
       "26723       39  \n",
       "3338        39  \n",
       "19367       39  \n",
       "30274        0  \n",
       "...        ...  \n",
       "1604        39  \n",
       "5937        39  \n",
       "11034       26  \n",
       "2819        39  \n",
       "14152       11  \n",
       "\n",
       "[6512 rows x 13 columns]"
      ]
     },
     "execution_count": 59,
     "metadata": {},
     "output_type": "execute_result"
    }
   ],
   "source": [
    "validation"
   ]
  },
  {
   "cell_type": "markdown",
   "id": "cba2ad60-849e-4fb8-b7c8-32c817861965",
   "metadata": {},
   "source": [
    "## Convert the Train and Validation Datasets to CSV Files"
   ]
  },
  {
   "cell_type": "code",
   "execution_count": 60,
   "id": "5f22b727-ef66-4acf-9364-e162ee066c54",
   "metadata": {},
   "outputs": [],
   "source": [
    "# Use 'csv' format to store the data\n",
    "# The first column is expected to be the output column\n",
    "train.to_csv('train.csv', index=False, header=False)\n",
    "validation.to_csv('validation.csv', index=False, header=False)"
   ]
  },
  {
   "cell_type": "markdown",
   "id": "1ae1717b-9c94-4217-9388-2264196106fa",
   "metadata": {},
   "source": [
    "## Upload the Datasets to Amazon S3"
   ]
  },
  {
   "cell_type": "markdown",
   "id": "39ae6513-490c-4b45-ab6f-6bb4526e96c1",
   "metadata": {},
   "source": [
    "The following code sets up the default S3 bucket URI for your current SageMaker session, creates a new demo-sagemaker-xgboost-adult-income-prediction folder, and uploads the training and validation datasets to the data subfolder.\n",
    "\n",
    "*Ran into issues with the original code. See the following link:*\n",
    "https://docs.aws.amazon.com/sagemaker/latest/dg/automatic-model-tuning-ex-bucket.html\n",
    "\n",
    "*UPDATE: Fixed with prerequisite section*"
   ]
  },
  {
   "cell_type": "code",
   "execution_count": 61,
   "id": "dd1a401a-acd0-498a-ad61-f990af0a8af1",
   "metadata": {},
   "outputs": [
    {
     "name": "stderr",
     "output_type": "stream",
     "text": [
      "INFO:botocore.credentials:Found credentials from IAM Role: BaseNotebookInstanceEc2InstanceRole\n",
      "INFO:botocore.credentials:Found credentials from IAM Role: BaseNotebookInstanceEc2InstanceRole\n",
      "INFO:botocore.credentials:Found credentials from IAM Role: BaseNotebookInstanceEc2InstanceRole\n"
     ]
    }
   ],
   "source": [
    "import sagemaker, boto3, os\n",
    "bucket = sagemaker.Session().default_bucket()\n",
    "\n",
    "# Workaround fix #1 - Did not work\n",
    "#sess = sagemaker.Session()\n",
    "#bucket = sess.default_bucket()\n",
    "\n",
    "# Workaround fix #2 - Worked\n",
    "#bucket = \"sagemaker-studio-516077839494-4buqgbi5pl6\"\n",
    "\n",
    "prefix = \"demo-sagemaker-xgboost-adult-income-prediction\"\n",
    "\n",
    "boto3.Session().resource('s3').Bucket(bucket).Object(os.path.join(prefix, 'data/train.csv')).upload_file('train.csv')\n",
    "boto3.Session().resource('s3').Bucket(bucket).Object(os.path.join(prefix, 'data/validation.csv')).upload_file('validation.csv')"
   ]
  },
  {
   "cell_type": "markdown",
   "id": "f24f2a33-1806-4433-b5a7-d4fca7bcae83",
   "metadata": {},
   "source": [
    "Run the following AWS CLI to check if the CSV files are successfully uploaded to the S3 bucket."
   ]
  },
  {
   "cell_type": "code",
   "execution_count": 62,
   "id": "5a80dc6f-001d-4282-ac66-cb62b883c1ea",
   "metadata": {},
   "outputs": [
    {
     "name": "stdout",
     "output_type": "stream",
     "text": [
      "2023-01-06 01:32:27     786285 demo-sagemaker-xgboost-adult-income-prediction/data/train.csv\n",
      "2023-01-06 01:32:28     262122 demo-sagemaker-xgboost-adult-income-prediction/data/validation.csv\n"
     ]
    }
   ],
   "source": [
    "! aws s3 ls {bucket}/{prefix}/data --recursive"
   ]
  },
  {
   "cell_type": "markdown",
   "id": "d9c195aa-a327-4692-8624-8eeca630cf27",
   "metadata": {},
   "source": [
    "# Train a Model"
   ]
  },
  {
   "cell_type": "markdown",
   "id": "d8e25f05-7521-40e9-bb82-74c41c8e52bd",
   "metadata": {},
   "source": [
    "## Choose the Training Algorithm"
   ]
  },
  {
   "cell_type": "markdown",
   "id": "ba065b03-37a0-4b29-9d00-bc43f3bc5fe1",
   "metadata": {},
   "source": [
    "To choose the right algorithm for your dataset, you typically need to evaluate different models to find the most suitable models to your data. For simplicity, the SageMaker XGBoost Algorithm built-in algorithm is used throughout this tutorial without the pre-evaluation of models."
   ]
  },
  {
   "cell_type": "markdown",
   "id": "69b259f7-296c-47ff-8203-c8eb14790bbf",
   "metadata": {},
   "source": [
    "## Create and Run a Training Job"
   ]
  },
  {
   "cell_type": "markdown",
   "id": "53efaa4b-5b14-4db7-94f5-dd66718c2529",
   "metadata": {},
   "source": [
    "1. Import the Amazon SageMaker Python SDK and start by retrieving the basic information from your current SageMaker session."
   ]
  },
  {
   "cell_type": "code",
   "execution_count": 63,
   "id": "918c9cc7-f798-4fdb-babb-b739d3065413",
   "metadata": {},
   "outputs": [
    {
     "name": "stderr",
     "output_type": "stream",
     "text": [
      "INFO:botocore.credentials:Found credentials from IAM Role: BaseNotebookInstanceEc2InstanceRole\n",
      "INFO:botocore.credentials:Found credentials from IAM Role: BaseNotebookInstanceEc2InstanceRole\n"
     ]
    },
    {
     "name": "stdout",
     "output_type": "stream",
     "text": [
      "AWS Region: us-east-1\n",
      "RoleArn: arn:aws:iam::516077839494:role/service-role/AmazonSageMaker-ExecutionRole-20230105T084379\n"
     ]
    }
   ],
   "source": [
    "import sagemaker\n",
    "\n",
    "region = sagemaker.Session().boto_region_name\n",
    "print(\"AWS Region: {}\".format(region))\n",
    "\n",
    "role = sagemaker.get_execution_role()\n",
    "print(\"RoleArn: {}\".format(role))"
   ]
  },
  {
   "cell_type": "markdown",
   "id": "afa1d716-b1af-4712-ad53-d521d26758c8",
   "metadata": {},
   "source": [
    "2. Create an XGBoost estimator using the sagemaker.estimator.Estimator class. In the following example code, the XGBoost estimator is named xgb_model."
   ]
  },
  {
   "cell_type": "code",
   "execution_count": 7,
   "id": "640a341f-9f06-4412-966a-91bca3102108",
   "metadata": {},
   "outputs": [
    {
     "name": "stdout",
     "output_type": "stream",
     "text": [
      "683313688378.dkr.ecr.us-east-1.amazonaws.com/sagemaker-xgboost:1.2-1\n"
     ]
    }
   ],
   "source": [
    "from sagemaker.debugger import Rule, rule_configs\n",
    "from sagemaker.session import TrainingInput\n",
    "\n",
    "s3_output_location='s3://{}/{}/{}'.format(bucket, prefix, 'xgboost_model')\n",
    "\n",
    "container=sagemaker.image_uris.retrieve(\"xgboost\", region, \"1.2-1\")\n",
    "print(container)\n",
    "\n",
    "xgb_model=sagemaker.estimator.Estimator(\n",
    "    image_uri=container,\n",
    "    role=role,\n",
    "    instance_count=1,\n",
    "    instance_type='ml.m4.xlarge',\n",
    "    volume_size=5,\n",
    "    output_path=s3_output_location,\n",
    "    sagemaker_session=sagemaker.Session(),\n",
    "    rules=[Rule.sagemaker(rule_configs.create_xgboost_report())]\n",
    ")"
   ]
  },
  {
   "cell_type": "markdown",
   "id": "2b9899d1-83e0-48de-8aea-770f2bed3642",
   "metadata": {},
   "source": [
    "To construct the SageMaker estimator, specify the following parameters:\n",
    "\n",
    "- image_uri – Specify the training container image URI. In this example, the SageMaker XGBoost training container URI is specified using sagemaker.image_uris.retrieve.\n",
    "\n",
    "- role – The AWS Identity and Access Management (IAM) role that SageMaker uses to perform tasks on your behalf (for example, reading training results, call model artifacts from Amazon S3, and writing training results to Amazon S3).\n",
    "\n",
    "- instance_count and instance_type – The type and number of Amazon EC2 ML compute instances to use for model training. For this training exercise, you use a single ml.m4.xlarge instance, which has 4 CPUs, 16 GB of memory, an Amazon Elastic Block Store (Amazon EBS) storage, and a high network performance. For more information about EC2 compute instance types, see Amazon EC2 Instance Types. For more information about billing, see Amazon SageMaker pricing.\n",
    "\n",
    "- volume_size – The size, in GB, of the EBS storage volume to attach to the training instance. This must be large enough to store training data if you use File mode (File mode is on by default).\n",
    "\n",
    "- output_path – The path to the S3 bucket where SageMaker stores the model artifact and training results.\n",
    "\n",
    "- sagemaker_session – The session object that manages interactions with SageMaker API operations and other AWS service that the training job uses.\n",
    "\n",
    "- rules – Specify a list of SageMaker Debugger built-in rules. In this example, the create_xgboost_report() rule creates an XGBoost report that provides insights into the training progress and results. For more information, see SageMaker Debugger XGBoost Training Report."
   ]
  },
  {
   "cell_type": "markdown",
   "id": "2aa5cf64-fd5e-432d-9585-bb37afa9cf32",
   "metadata": {},
   "source": [
    "3. Set the hyperparameters for the XGBoost algorithm by calling the set_hyperparameters method of the estimator. For a complete list of XGBoost hyperparameters, see XGBoost Hyperparameters."
   ]
  },
  {
   "cell_type": "code",
   "execution_count": 8,
   "id": "6da96794-b641-4dc2-b2c5-354c5a3a9fc6",
   "metadata": {},
   "outputs": [],
   "source": [
    "xgb_model.set_hyperparameters(\n",
    "    max_depth = 5,\n",
    "    eta = 0.2,\n",
    "    gamma = 4,\n",
    "    min_child_weight = 6,\n",
    "    subsample = 0.7,\n",
    "    objective = \"binary:logistic\",\n",
    "    num_round = 1000\n",
    ")"
   ]
  },
  {
   "cell_type": "markdown",
   "id": "736aa482-9d09-43b8-91ed-5bb6057c5193",
   "metadata": {},
   "source": [
    "4. Use the TrainingInput class to configure a data input flow for training. The following example code shows how to configure TrainingInput objects to use the training and validation datasets you uploaded to Amazon S3 in the Split the Dataset into Train, Validation, and Test Datasets section."
   ]
  },
  {
   "cell_type": "code",
   "execution_count": 9,
   "id": "31825380-723d-409a-a0a3-a56fef2fb1ce",
   "metadata": {},
   "outputs": [],
   "source": [
    "from sagemaker.session import TrainingInput\n",
    "\n",
    "train_input = TrainingInput(\n",
    "    \"s3://{}/{}/{}\".format(bucket, prefix, \"data/train.csv\"), content_type=\"csv\"\n",
    ")\n",
    "validation_input = TrainingInput(\n",
    "    \"s3://{}/{}/{}\".format(bucket, prefix, \"data/validation.csv\"), content_type=\"csv\"\n",
    ")"
   ]
  },
  {
   "cell_type": "markdown",
   "id": "857230f3-698f-4680-90e3-1dc15e292200",
   "metadata": {},
   "source": [
    "5. To start model training, call the estimator's fit method with the training and validation datasets. By setting wait=True, the fit method displays progress logs and waits until training is complete.\n",
    "\n",
    "For more information about model training, see Train a Model with Amazon SageMaker. **This tutorial training job might take up to 10 minutes**."
   ]
  },
  {
   "cell_type": "code",
   "execution_count": 10,
   "id": "86f1124c-2c2b-407f-a227-b2680afb4fcb",
   "metadata": {},
   "outputs": [
    {
     "name": "stderr",
     "output_type": "stream",
     "text": [
      "INFO:sagemaker:Creating training-job with name: sagemaker-xgboost-2023-01-05-23-08-32-765\n"
     ]
    }
   ],
   "source": [
    "xgb_model.fit({\"train\": train_input, \"validation\": validation_input}, wait=True)"
   ]
  },
  {
   "cell_type": "markdown",
   "id": "fe3d599e-745f-463a-9b81-ee8a0984df34",
   "metadata": {},
   "source": [
    "After the training job has done, you can download an XGBoost training report and a profiling report generated by SageMaker Debugger. The XGBoost training report offers you insights into the training progress and results, such as the loss function with respect to iteration, feature importance, confusion matrix, accuracy curves, and other statistical results of training. For example, you can find the following loss curve from the XGBoost training report which clearly indicates that there is an overfitting problem."
   ]
  },
  {
   "cell_type": "markdown",
   "id": "e39dc118-cf75-4e0b-9d27-5818a57af3bf",
   "metadata": {},
   "source": [
    "Run the following code to specify the S3 bucket URI where the Debugger training reports are generated and check if the reports exist."
   ]
  },
  {
   "cell_type": "code",
   "execution_count": 11,
   "id": "5f530fc3-786f-479e-8764-89d5c8ecc414",
   "metadata": {},
   "outputs": [
    {
     "name": "stdout",
     "output_type": "stream",
     "text": [
      "2023-01-05 23:18:00        314 demo-sagemaker-xgboost-adult-income-prediction/xgboost_model/sagemaker-xgboost-2023-01-05-23-08-32-765/rule-output/CreateXgboostReport/xgboost-reports/ConfusionMatrix.json\n",
      "2023-01-05 23:17:59        734 demo-sagemaker-xgboost-adult-income-prediction/xgboost_model/sagemaker-xgboost-2023-01-05-23-08-32-765/rule-output/CreateXgboostReport/xgboost-reports/EvaluationMetrics.json\n",
      "2023-01-05 23:17:59       2691 demo-sagemaker-xgboost-adult-income-prediction/xgboost_model/sagemaker-xgboost-2023-01-05-23-08-32-765/rule-output/CreateXgboostReport/xgboost-reports/FeatureImportance.json\n",
      "2023-01-05 23:17:59       9599 demo-sagemaker-xgboost-adult-income-prediction/xgboost_model/sagemaker-xgboost-2023-01-05-23-08-32-765/rule-output/CreateXgboostReport/xgboost-reports/IterativeClassAccuracy.json\n",
      "2023-01-05 23:18:00        180 demo-sagemaker-xgboost-adult-income-prediction/xgboost_model/sagemaker-xgboost-2023-01-05-23-08-32-765/rule-output/CreateXgboostReport/xgboost-reports/LabelsDistribution.json\n",
      "2023-01-05 23:17:59      36140 demo-sagemaker-xgboost-adult-income-prediction/xgboost_model/sagemaker-xgboost-2023-01-05-23-08-32-765/rule-output/CreateXgboostReport/xgboost-reports/LossData.json\n",
      "2023-01-05 23:18:00     106705 demo-sagemaker-xgboost-adult-income-prediction/xgboost_model/sagemaker-xgboost-2023-01-05-23-08-32-765/rule-output/CreateXgboostReport/xgboost-reports/ROCCurve.json\n",
      "2023-01-05 23:17:59       1766 demo-sagemaker-xgboost-adult-income-prediction/xgboost_model/sagemaker-xgboost-2023-01-05-23-08-32-765/rule-output/CreateXgboostReport/xgboost-reports/ResidualDistribution.json\n",
      "2023-01-05 23:17:55     454339 demo-sagemaker-xgboost-adult-income-prediction/xgboost_model/sagemaker-xgboost-2023-01-05-23-08-32-765/rule-output/CreateXgboostReport/xgboost_report.html\n",
      "2023-01-05 23:17:53     259463 demo-sagemaker-xgboost-adult-income-prediction/xgboost_model/sagemaker-xgboost-2023-01-05-23-08-32-765/rule-output/CreateXgboostReport/xgboost_report.ipynb\n"
     ]
    }
   ],
   "source": [
    "rule_output_path = xgb_model.output_path + \"/\" + xgb_model.latest_training_job.job_name + \"/rule-output\"\n",
    "! aws s3 ls {rule_output_path} --recursive"
   ]
  },
  {
   "cell_type": "markdown",
   "id": "23f7966b-c616-458b-834b-609cd82b4164",
   "metadata": {},
   "source": [
    "Download the Debugger XGBoost training and profiling reports to the current workspace:"
   ]
  },
  {
   "cell_type": "code",
   "execution_count": 12,
   "id": "274ece1d-b60d-46d5-9889-dbd9a0b8396f",
   "metadata": {},
   "outputs": [
    {
     "name": "stdout",
     "output_type": "stream",
     "text": [
      "download: s3://sagemaker-us-east-1-516077839494/demo-sagemaker-xgboost-adult-income-prediction/xgboost_model/sagemaker-xgboost-2023-01-05-23-08-32-765/rule-output/CreateXgboostReport/xgboost-reports/ConfusionMatrix.json to CreateXgboostReport/xgboost-reports/ConfusionMatrix.json\n",
      "download: s3://sagemaker-us-east-1-516077839494/demo-sagemaker-xgboost-adult-income-prediction/xgboost_model/sagemaker-xgboost-2023-01-05-23-08-32-765/rule-output/CreateXgboostReport/xgboost-reports/EvaluationMetrics.json to CreateXgboostReport/xgboost-reports/EvaluationMetrics.json\n",
      "download: s3://sagemaker-us-east-1-516077839494/demo-sagemaker-xgboost-adult-income-prediction/xgboost_model/sagemaker-xgboost-2023-01-05-23-08-32-765/rule-output/CreateXgboostReport/xgboost-reports/IterativeClassAccuracy.json to CreateXgboostReport/xgboost-reports/IterativeClassAccuracy.json\n",
      "download: s3://sagemaker-us-east-1-516077839494/demo-sagemaker-xgboost-adult-income-prediction/xgboost_model/sagemaker-xgboost-2023-01-05-23-08-32-765/rule-output/CreateXgboostReport/xgboost-reports/FeatureImportance.json to CreateXgboostReport/xgboost-reports/FeatureImportance.json\n",
      "download: s3://sagemaker-us-east-1-516077839494/demo-sagemaker-xgboost-adult-income-prediction/xgboost_model/sagemaker-xgboost-2023-01-05-23-08-32-765/rule-output/CreateXgboostReport/xgboost-reports/LossData.json to CreateXgboostReport/xgboost-reports/LossData.json\n",
      "download: s3://sagemaker-us-east-1-516077839494/demo-sagemaker-xgboost-adult-income-prediction/xgboost_model/sagemaker-xgboost-2023-01-05-23-08-32-765/rule-output/CreateXgboostReport/xgboost_report.ipynb to CreateXgboostReport/xgboost_report.ipynb\n",
      "download: s3://sagemaker-us-east-1-516077839494/demo-sagemaker-xgboost-adult-income-prediction/xgboost_model/sagemaker-xgboost-2023-01-05-23-08-32-765/rule-output/CreateXgboostReport/xgboost-reports/LabelsDistribution.json to CreateXgboostReport/xgboost-reports/LabelsDistribution.json\n",
      "download: s3://sagemaker-us-east-1-516077839494/demo-sagemaker-xgboost-adult-income-prediction/xgboost_model/sagemaker-xgboost-2023-01-05-23-08-32-765/rule-output/CreateXgboostReport/xgboost-reports/ResidualDistribution.json to CreateXgboostReport/xgboost-reports/ResidualDistribution.json\n",
      "download: s3://sagemaker-us-east-1-516077839494/demo-sagemaker-xgboost-adult-income-prediction/xgboost_model/sagemaker-xgboost-2023-01-05-23-08-32-765/rule-output/CreateXgboostReport/xgboost-reports/ROCCurve.json to CreateXgboostReport/xgboost-reports/ROCCurve.json\n",
      "download: s3://sagemaker-us-east-1-516077839494/demo-sagemaker-xgboost-adult-income-prediction/xgboost_model/sagemaker-xgboost-2023-01-05-23-08-32-765/rule-output/CreateXgboostReport/xgboost_report.html to CreateXgboostReport/xgboost_report.html\n"
     ]
    }
   ],
   "source": [
    "! aws s3 cp {rule_output_path} ./ --recursive"
   ]
  },
  {
   "cell_type": "markdown",
   "id": "876e20f0-6e01-424c-b24b-3ec576b4d3be",
   "metadata": {},
   "source": [
    "Run the following IPython script to get the file link of the XGBoost training report:"
   ]
  },
  {
   "cell_type": "code",
   "execution_count": 13,
   "id": "981e1938-2047-42b9-8791-eabb9c993c3f",
   "metadata": {},
   "outputs": [
    {
     "data": {
      "text/plain": [
       "'Click link below to view the XGBoost Training report'"
      ]
     },
     "metadata": {},
     "output_type": "display_data"
    },
    {
     "data": {
      "text/html": [
       "<a href='CreateXgboostReport/xgboost_report.html' target='_blank'>CreateXgboostReport/xgboost_report.html</a><br>"
      ],
      "text/plain": [
       "/home/ec2-user/SageMaker/CreateXgboostReport/xgboost_report.html"
      ]
     },
     "metadata": {},
     "output_type": "display_data"
    }
   ],
   "source": [
    "from IPython.display import FileLink, FileLinks\n",
    "display(\"Click link below to view the XGBoost Training report\", FileLink(\"CreateXgboostReport/xgboost_report.html\"))"
   ]
  },
  {
   "cell_type": "markdown",
   "id": "e3b520c1-cc20-419b-97eb-abd62d493d35",
   "metadata": {},
   "source": [
    "The following IPython script returns the file link of the Debugger profiling report that shows summaries and details of the EC2 instance resource utilization, system bottleneck detection results, and python operation profiling results:"
   ]
  },
  {
   "cell_type": "code",
   "execution_count": 20,
   "id": "87900de0-ed3f-48e7-8623-c3fb835f3f3f",
   "metadata": {},
   "outputs": [
    {
     "data": {
      "text/plain": [
       "[{'RuleConfigurationName': 'CreateXgboostReport',\n",
       "  'RuleEvaluationJobArn': 'arn:aws:sagemaker:us-east-1:516077839494:processing-job/sagemaker-xgboost-2023-01--createxgboostreport-07e9579b',\n",
       "  'RuleEvaluationStatus': 'NoIssuesFound',\n",
       "  'LastModifiedTime': datetime.datetime(2023, 1, 5, 23, 18, 19, 152000, tzinfo=tzlocal())}]"
      ]
     },
     "execution_count": 20,
     "metadata": {},
     "output_type": "execute_result"
    }
   ],
   "source": [
    "xgb_model.latest_training_job.rule_job_summary()"
   ]
  },
  {
   "cell_type": "code",
   "execution_count": 16,
   "id": "dca8f159-ec66-4036-bb18-69c83c33fcb1",
   "metadata": {},
   "outputs": [
    {
     "ename": "IndexError",
     "evalue": "list index out of range",
     "output_type": "error",
     "traceback": [
      "\u001b[0;31m---------------------------------------------------------------------------\u001b[0m",
      "\u001b[0;31mIndexError\u001b[0m                                Traceback (most recent call last)",
      "\u001b[0;32m/tmp/ipykernel_9850/755097169.py\u001b[0m in \u001b[0;36m<cell line: 1>\u001b[0;34m()\u001b[0m\n\u001b[0;32m----> 1\u001b[0;31m profiler_report_name = [rule[\"RuleConfigurationName\"] \n\u001b[0m\u001b[1;32m      2\u001b[0m                         \u001b[0;32mfor\u001b[0m \u001b[0mrule\u001b[0m \u001b[0;32min\u001b[0m \u001b[0mxgb_model\u001b[0m\u001b[0;34m.\u001b[0m\u001b[0mlatest_training_job\u001b[0m\u001b[0;34m.\u001b[0m\u001b[0mrule_job_summary\u001b[0m\u001b[0;34m(\u001b[0m\u001b[0;34m)\u001b[0m\u001b[0;34m\u001b[0m\u001b[0;34m\u001b[0m\u001b[0m\n\u001b[1;32m      3\u001b[0m                         if \"Profiler\" in rule[\"RuleConfigurationName\"]][0]\n\u001b[1;32m      4\u001b[0m \u001b[0mprofiler_report_name\u001b[0m\u001b[0;34m\u001b[0m\u001b[0;34m\u001b[0m\u001b[0m\n\u001b[1;32m      5\u001b[0m \u001b[0mdisplay\u001b[0m\u001b[0;34m(\u001b[0m\u001b[0;34m\"Click link below to view the profiler report\"\u001b[0m\u001b[0;34m,\u001b[0m \u001b[0mFileLink\u001b[0m\u001b[0;34m(\u001b[0m\u001b[0mprofiler_report_name\u001b[0m\u001b[0;34m+\u001b[0m\u001b[0;34m\"/profiler-output/profiler-report.html\"\u001b[0m\u001b[0;34m)\u001b[0m\u001b[0;34m)\u001b[0m\u001b[0;34m\u001b[0m\u001b[0;34m\u001b[0m\u001b[0m\n",
      "\u001b[0;31mIndexError\u001b[0m: list index out of range"
     ]
    }
   ],
   "source": [
    "profiler_report_name = [rule[\"RuleConfigurationName\"] \n",
    "                        for rule in xgb_model.latest_training_job.rule_job_summary() \n",
    "                        if \"Profiler\" in rule[\"RuleConfigurationName\"]][0]\n",
    "profiler_report_name\n",
    "display(\"Click link below to view the profiler report\", FileLink(profiler_report_name+\"/profiler-output/profiler-report.html\"))"
   ]
  },
  {
   "cell_type": "markdown",
   "id": "7fc1ac71-8d5f-42e7-8e94-6a0530323b80",
   "metadata": {},
   "source": [
    "You now have a trained XGBoost model. SageMaker stores the model artifact in your S3 bucket. To find the location of the model artifact, run the following code to print the model_data attribute of the xgb_model estimator:"
   ]
  },
  {
   "cell_type": "code",
   "execution_count": 64,
   "id": "61f28063-74f4-4e25-a146-1c5c7b9963e1",
   "metadata": {},
   "outputs": [
    {
     "data": {
      "text/plain": [
       "'s3://sagemaker-us-east-1-516077839494/demo-sagemaker-xgboost-adult-income-prediction/xgboost_model/sagemaker-xgboost-2023-01-05-23-08-32-765/output/model.tar.gz'"
      ]
     },
     "execution_count": 64,
     "metadata": {},
     "output_type": "execute_result"
    }
   ],
   "source": [
    "xgb_model.model_data"
   ]
  },
  {
   "cell_type": "markdown",
   "id": "abfabd34-f073-4111-a30b-54dae2c53ba0",
   "metadata": {},
   "source": [
    "# Deploy the Model to Amazon EC2"
   ]
  },
  {
   "cell_type": "markdown",
   "id": "dacf9629-b985-404a-aaff-699f3a799d19",
   "metadata": {},
   "source": [
    "## Deploy the Model to SageMaker Hosting Services"
   ]
  },
  {
   "cell_type": "code",
   "execution_count": 21,
   "id": "57aa9f95-4d32-436c-9829-e1c79ee6e8d6",
   "metadata": {},
   "outputs": [
    {
     "name": "stderr",
     "output_type": "stream",
     "text": [
      "INFO:sagemaker:Creating model with name: sagemaker-xgboost-2023-01-06-01-13-20-954\n",
      "INFO:sagemaker:Creating endpoint-config with name sagemaker-xgboost-2023-01-06-01-13-20-954\n",
      "INFO:sagemaker:Creating endpoint with name sagemaker-xgboost-2023-01-06-01-13-20-954\n"
     ]
    },
    {
     "name": "stdout",
     "output_type": "stream",
     "text": [
      "---------!"
     ]
    }
   ],
   "source": [
    "import sagemaker\n",
    "from sagemaker.serializers import CSVSerializer\n",
    "xgb_predictor=xgb_model.deploy(\n",
    "    initial_instance_count=1,\n",
    "    instance_type='ml.t2.medium',\n",
    "    serializer=CSVSerializer()\n",
    ")"
   ]
  },
  {
   "cell_type": "markdown",
   "id": "55acdd07-e311-44c8-b2dc-e0efbc9abd79",
   "metadata": {},
   "source": [
    "- initial_instance_count (int) – The number of instances to deploy the model.\n",
    "\n",
    "- instance_type (str) – The type of instances that you want to operate your deployed model.\n",
    "\n",
    "- serializer (int) – Serialize input data of various formats (a NumPy array, list, file, or buffer) to a CSV-formatted string. We use this because the XGBoost algorithm accepts input files in CSV format."
   ]
  },
  {
   "cell_type": "markdown",
   "id": "fa5723c2-adb4-49ca-88bd-56fb9ba91dc3",
   "metadata": {},
   "source": [
    "The deploy method creates a deployable model, configures the SageMaker hosting services endpoint, and launches the endpoint to host the model. For more information, see the SageMaker generic Estimator's deploy class method in the Amazon SageMaker Python SDK. To retrieve the name of endpoint that's generated by the deploy method, run the following code:"
   ]
  },
  {
   "cell_type": "code",
   "execution_count": 65,
   "id": "88b350df-d40e-4256-b52e-c9fc8a7c5a62",
   "metadata": {},
   "outputs": [
    {
     "data": {
      "text/plain": [
       "'sagemaker-xgboost-2023-01-06-01-13-20-954'"
      ]
     },
     "execution_count": 65,
     "metadata": {},
     "output_type": "execute_result"
    }
   ],
   "source": [
    "xgb_predictor.endpoint_name"
   ]
  },
  {
   "cell_type": "markdown",
   "id": "7db2403e-9ef9-4e47-b91e-cae8ba61565c",
   "metadata": {},
   "source": [
    "This should return the endpoint name of the xgb_predictor. The format of the endpoint name is \"sagemaker-xgboost-YYYY-MM-DD-HH-MM-SS-SSS\". This endpoint stays active in the ML instance, and you can make instantaneous predictions at any time unless you shut it down later. Copy this endpoint name and save it to reuse and make real-time predictions elsewhere in SageMaker Studio or SageMaker notebook instances."
   ]
  },
  {
   "cell_type": "markdown",
   "id": "d9308dbc-764c-4da1-8920-6c9fc6e9f76c",
   "metadata": {},
   "source": [
    "## Use SageMaker Predictor to Reuse the Hosted Endpoint"
   ]
  },
  {
   "cell_type": "markdown",
   "id": "a8d3df39-4fb7-4923-b044-9308b9426624",
   "metadata": {},
   "source": [
    "After you deploy the model to an endpoint, you can set up a new SageMaker predictor by pairing the endpoint and continuously make real-time predictions in any other notebooks. The following example code shows how to use the SageMaker Predictor class to set up a new predictor object using the same endpoint. Re-use the endpoint name that you used for the xgb_predictor.\n",
    "\n",
    "The xgb_predictor_reuse Predictor behaves exactly the same as the original xgb_predictor. For more information, see the SageMaker Predictor class in the Amazon SageMaker Python SDK."
   ]
  },
  {
   "cell_type": "code",
   "execution_count": 25,
   "id": "15e66dff-5af5-470a-8d0a-148a47c379d0",
   "metadata": {},
   "outputs": [
    {
     "name": "stderr",
     "output_type": "stream",
     "text": [
      "INFO:botocore.credentials:Found credentials from IAM Role: BaseNotebookInstanceEc2InstanceRole\n"
     ]
    }
   ],
   "source": [
    "import sagemaker\n",
    "xgb_predictor_reuse=sagemaker.predictor.Predictor(\n",
    "    #endpoint_name=\"sagemaker-xgboost-YYYY-MM-DD-HH-MM-SS-SSS\",\n",
    "    endpoint_name=\"sagemaker-xgboost-2023-01-06-01-13-20-954\",\n",
    "    sagemaker_session=sagemaker.Session(),\n",
    "    serializer=sagemaker.serializers.CSVSerializer()\n",
    ")"
   ]
  },
  {
   "cell_type": "markdown",
   "id": "f884971c-5fcf-4b37-a3c5-bcfd558d225c",
   "metadata": {},
   "source": [
    "## Make Prediction with Batch Transform"
   ]
  },
  {
   "cell_type": "markdown",
   "id": "2e3b446e-767d-4812-a3d6-7c684066348d",
   "metadata": {},
   "source": [
    "Instead of hosting an endpoint in production, you can run a one-time batch inference job to make predictions on a test dataset using the SageMaker batch transform. After your model training has completed, you can extend the estimator to a transformer object, which is based on the SageMaker Transformer class. The batch transformer reads in input data from a specified S3 bucket and makes predictions."
   ]
  },
  {
   "cell_type": "markdown",
   "id": "75ace2e6-b7b4-4d5c-91f3-8086b276d81a",
   "metadata": {},
   "source": [
    "1. Run the following code to convert the feature columns of the test dataset to a CSV file and uploads to the S3 bucket:"
   ]
  },
  {
   "cell_type": "code",
   "execution_count": 66,
   "id": "25e40957-114d-48d7-a7a2-70ebcbbe17c6",
   "metadata": {},
   "outputs": [
    {
     "name": "stderr",
     "output_type": "stream",
     "text": [
      "INFO:botocore.credentials:Found credentials from IAM Role: BaseNotebookInstanceEc2InstanceRole\n"
     ]
    }
   ],
   "source": [
    "X_test.to_csv('test.csv', index=False, header=False)\n",
    "\n",
    "boto3.Session().resource('s3').Bucket(bucket).Object(\n",
    "os.path.join(prefix, 'test/test.csv')).upload_file('test.csv')"
   ]
  },
  {
   "cell_type": "markdown",
   "id": "596d43c4-4e85-4e5a-a3ae-e91f05882dcc",
   "metadata": {},
   "source": [
    "2. Specify S3 bucket URIs of input and output for the batch transform job as shown following:"
   ]
  },
  {
   "cell_type": "code",
   "execution_count": 67,
   "id": "ffc526a4-bbc4-4b91-b847-25bee684c4e5",
   "metadata": {},
   "outputs": [],
   "source": [
    "# The location of the test dataset\n",
    "batch_input = 's3://{}/{}/test'.format(bucket, prefix)\n",
    "\n",
    "# The location to store the results of the batch transform job\n",
    "batch_output = 's3://{}/{}/batch-prediction'.format(bucket, prefix)"
   ]
  },
  {
   "cell_type": "markdown",
   "id": "729cb82b-5fd4-4db7-883a-c861c2a4926d",
   "metadata": {},
   "source": [
    "3. Create a transformer object specifying the minimal number of parameters: the instance_count and instance_type parameters to run the batch transform job, and the output_path to save prediction data as shown following:"
   ]
  },
  {
   "cell_type": "code",
   "execution_count": 68,
   "id": "522c0d4f-250c-4404-a429-1477db1a19bc",
   "metadata": {},
   "outputs": [
    {
     "name": "stderr",
     "output_type": "stream",
     "text": [
      "INFO:sagemaker:Creating model with name: sagemaker-xgboost-2023-01-06-01-33-54-717\n"
     ]
    }
   ],
   "source": [
    "transformer = xgb_model.transformer(\n",
    "    instance_count=1, \n",
    "    instance_type='ml.m4.xlarge', \n",
    "    output_path=batch_output\n",
    ")"
   ]
  },
  {
   "cell_type": "markdown",
   "id": "4609f7d0-b60a-4ff0-85cc-4a6ae7ba0ac5",
   "metadata": {},
   "source": [
    "4. Initiate the batch transform job by executing the transform() method of the transformer object as shown following:"
   ]
  },
  {
   "cell_type": "code",
   "execution_count": 69,
   "id": "f9f64252-6f2d-4126-9499-be68e785e514",
   "metadata": {},
   "outputs": [
    {
     "name": "stderr",
     "output_type": "stream",
     "text": [
      "INFO:sagemaker:Creating transform job with name: sagemaker-xgboost-2023-01-06-01-34-04-776\n"
     ]
    },
    {
     "name": "stdout",
     "output_type": "stream",
     "text": [
      "....................................\u001b[34m[2023-01-06:01:40:00:INFO] No GPUs detected (normal if no gpus installed)\u001b[0m\n",
      "\u001b[34m[2023-01-06:01:40:00:INFO] No GPUs detected (normal if no gpus installed)\u001b[0m\n",
      "\u001b[34m[2023-01-06:01:40:00:INFO] nginx config: \u001b[0m\n",
      "\u001b[34mworker_processes auto;\u001b[0m\n",
      "\u001b[34mdaemon off;\u001b[0m\n",
      "\u001b[34mpid /tmp/nginx.pid;\u001b[0m\n",
      "\u001b[34merror_log  /dev/stderr;\u001b[0m\n",
      "\u001b[34mworker_rlimit_nofile 4096;\u001b[0m\n",
      "\u001b[34mevents {\n",
      "  worker_connections 2048;\u001b[0m\n",
      "\u001b[34m}\u001b[0m\n",
      "\u001b[34mhttp {\n",
      "  include /etc/nginx/mime.types;\n",
      "  default_type application/octet-stream;\n",
      "  access_log /dev/stdout combined;\n",
      "  upstream gunicorn {\n",
      "    server unix:/tmp/gunicorn.sock;\n",
      "  }\n",
      "  server {\n",
      "    listen 8080 deferred;\n",
      "    client_max_body_size 0;\n",
      "    keepalive_timeout 3;\n",
      "    location ~ ^/(ping|invocations|execution-parameters) {\n",
      "      proxy_set_header X-Forwarded-For $proxy_add_x_forwarded_for;\n",
      "      proxy_set_header Host $http_host;\n",
      "      proxy_redirect off;\n",
      "      proxy_read_timeout 60s;\n",
      "      proxy_pass http://gunicorn;\n",
      "    }\n",
      "    location / {\n",
      "      return 404 \"{}\";\n",
      "    }\n",
      "  }\u001b[0m\n",
      "\u001b[34m}\u001b[0m\n",
      "\u001b[34m[2023-01-06 01:40:00 +0000] [20] [INFO] Starting gunicorn 19.10.0\u001b[0m\n",
      "\u001b[34m[2023-01-06 01:40:00 +0000] [20] [INFO] Listening at: unix:/tmp/gunicorn.sock (20)\u001b[0m\n",
      "\u001b[34m[2023-01-06 01:40:00 +0000] [20] [INFO] Using worker: gevent\u001b[0m\n",
      "\u001b[34m[2023-01-06 01:40:00 +0000] [27] [INFO] Booting worker with pid: 27\u001b[0m\n",
      "\u001b[34m[2023-01-06 01:40:00 +0000] [28] [INFO] Booting worker with pid: 28\u001b[0m\n",
      "\u001b[34m[2023-01-06 01:40:00 +0000] [29] [INFO] Booting worker with pid: 29\u001b[0m\n",
      "\u001b[34m[2023-01-06 01:40:00 +0000] [30] [INFO] Booting worker with pid: 30\u001b[0m\n",
      "\u001b[34m[2023-01-06:01:40:06:INFO] No GPUs detected (normal if no gpus installed)\u001b[0m\n",
      "\u001b[34m169.254.255.130 - - [06/Jan/2023:01:40:06 +0000] \"GET /ping HTTP/1.1\" 200 0 \"-\" \"Go-http-client/1.1\"\u001b[0m\n",
      "\u001b[34m[2023-01-06:01:40:06:INFO] No GPUs detected (normal if no gpus installed)\u001b[0m\n",
      "\u001b[34m169.254.255.130 - - [06/Jan/2023:01:40:06 +0000] \"GET /execution-parameters HTTP/1.1\" 200 84 \"-\" \"Go-http-client/1.1\"\u001b[0m\n",
      "\u001b[35m[2023-01-06:01:40:06:INFO] No GPUs detected (normal if no gpus installed)\u001b[0m\n",
      "\u001b[35m169.254.255.130 - - [06/Jan/2023:01:40:06 +0000] \"GET /ping HTTP/1.1\" 200 0 \"-\" \"Go-http-client/1.1\"\u001b[0m\n",
      "\u001b[35m[2023-01-06:01:40:06:INFO] No GPUs detected (normal if no gpus installed)\u001b[0m\n",
      "\u001b[35m169.254.255.130 - - [06/Jan/2023:01:40:06 +0000] \"GET /execution-parameters HTTP/1.1\" 200 84 \"-\" \"Go-http-client/1.1\"\u001b[0m\n",
      "\u001b[34m[2023-01-06:01:40:06:INFO] No GPUs detected (normal if no gpus installed)\u001b[0m\n",
      "\u001b[34m[2023-01-06:01:40:06:INFO] Determined delimiter of CSV input is ','\u001b[0m\n",
      "\u001b[34m[2023-01-06:01:40:07:INFO] Loading model file '/opt/ml/model/xgboost-model'\u001b[0m\n",
      "\u001b[34m169.254.255.130 - - [06/Jan/2023:01:40:07 +0000] \"POST /invocations HTTP/1.1\" 200 131825 \"-\" \"Go-http-client/1.1\"\u001b[0m\n",
      "\u001b[35m[2023-01-06:01:40:06:INFO] No GPUs detected (normal if no gpus installed)\u001b[0m\n",
      "\u001b[35m[2023-01-06:01:40:06:INFO] Determined delimiter of CSV input is ','\u001b[0m\n",
      "\u001b[35m[2023-01-06:01:40:07:INFO] Loading model file '/opt/ml/model/xgboost-model'\u001b[0m\n",
      "\u001b[35m169.254.255.130 - - [06/Jan/2023:01:40:07 +0000] \"POST /invocations HTTP/1.1\" 200 131825 \"-\" \"Go-http-client/1.1\"\u001b[0m\n",
      "\u001b[32m2023-01-06T01:40:06.770:[sagemaker logs]: MaxConcurrentTransforms=4, MaxPayloadInMB=6, BatchStrategy=MULTI_RECORD\u001b[0m\n",
      "\n",
      "\u001b[34m[2023-01-06:01:40:00:INFO] No GPUs detected (normal if no gpus installed)\u001b[0m\n",
      "\u001b[34m[2023-01-06:01:40:00:INFO] No GPUs detected (normal if no gpus installed)\u001b[0m\n",
      "\u001b[34m[2023-01-06:01:40:00:INFO] nginx config: \u001b[0m\n",
      "\u001b[34mworker_processes auto;\u001b[0m\n",
      "\u001b[34mdaemon off;\u001b[0m\n",
      "\u001b[34mpid /tmp/nginx.pid;\u001b[0m\n",
      "\u001b[35m[2023-01-06:01:40:00:INFO] No GPUs detected (normal if no gpus installed)\u001b[0m\n",
      "\u001b[35m[2023-01-06:01:40:00:INFO] No GPUs detected (normal if no gpus installed)\u001b[0m\n",
      "\u001b[35m[2023-01-06:01:40:00:INFO] nginx config: \u001b[0m\n",
      "\u001b[35mworker_processes auto;\u001b[0m\n",
      "\u001b[35mdaemon off;\u001b[0m\n",
      "\u001b[35mpid /tmp/nginx.pid;\u001b[0m\n",
      "\u001b[34merror_log  /dev/stderr;\u001b[0m\n",
      "\u001b[34mworker_rlimit_nofile 4096;\u001b[0m\n",
      "\u001b[34mevents {\n",
      "  worker_connections 2048;\u001b[0m\n",
      "\u001b[34m}\u001b[0m\n",
      "\u001b[35merror_log  /dev/stderr;\u001b[0m\n",
      "\u001b[35mworker_rlimit_nofile 4096;\u001b[0m\n",
      "\u001b[35mevents {\n",
      "  worker_connections 2048;\u001b[0m\n",
      "\u001b[35m}\u001b[0m\n",
      "\u001b[34mhttp {\n",
      "  include /etc/nginx/mime.types;\n",
      "  default_type application/octet-stream;\n",
      "  access_log /dev/stdout combined;\n",
      "  upstream gunicorn {\n",
      "    server unix:/tmp/gunicorn.sock;\n",
      "  }\n",
      "  server {\n",
      "    listen 8080 deferred;\n",
      "    client_max_body_size 0;\n",
      "    keepalive_timeout 3;\n",
      "    location ~ ^/(ping|invocations|execution-parameters) {\n",
      "      proxy_set_header X-Forwarded-For $proxy_add_x_forwarded_for;\n",
      "      proxy_set_header Host $http_host;\n",
      "      proxy_redirect off;\n",
      "      proxy_read_timeout 60s;\n",
      "      proxy_pass http://gunicorn;\n",
      "    }\n",
      "    location / {\n",
      "      return 404 \"{}\";\n",
      "    }\n",
      "  }\u001b[0m\n",
      "\u001b[34m}\u001b[0m\n",
      "\u001b[34m[2023-01-06 01:40:00 +0000] [20] [INFO] Starting gunicorn 19.10.0\u001b[0m\n",
      "\u001b[34m[2023-01-06 01:40:00 +0000] [20] [INFO] Listening at: unix:/tmp/gunicorn.sock (20)\u001b[0m\n",
      "\u001b[34m[2023-01-06 01:40:00 +0000] [20] [INFO] Using worker: gevent\u001b[0m\n",
      "\u001b[34m[2023-01-06 01:40:00 +0000] [27] [INFO] Booting worker with pid: 27\u001b[0m\n",
      "\u001b[34m[2023-01-06 01:40:00 +0000] [28] [INFO] Booting worker with pid: 28\u001b[0m\n",
      "\u001b[35mhttp {\n",
      "  include /etc/nginx/mime.types;\n",
      "  default_type application/octet-stream;\n",
      "  access_log /dev/stdout combined;\n",
      "  upstream gunicorn {\n",
      "    server unix:/tmp/gunicorn.sock;\n",
      "  }\n",
      "  server {\n",
      "    listen 8080 deferred;\n",
      "    client_max_body_size 0;\n",
      "    keepalive_timeout 3;\n",
      "    location ~ ^/(ping|invocations|execution-parameters) {\n",
      "      proxy_set_header X-Forwarded-For $proxy_add_x_forwarded_for;\n",
      "      proxy_set_header Host $http_host;\n",
      "      proxy_redirect off;\n",
      "      proxy_read_timeout 60s;\n",
      "      proxy_pass http://gunicorn;\n",
      "    }\n",
      "    location / {\n",
      "      return 404 \"{}\";\n",
      "    }\n",
      "  }\u001b[0m\n",
      "\u001b[35m}\u001b[0m\n",
      "\u001b[35m[2023-01-06 01:40:00 +0000] [20] [INFO] Starting gunicorn 19.10.0\u001b[0m\n",
      "\u001b[35m[2023-01-06 01:40:00 +0000] [20] [INFO] Listening at: unix:/tmp/gunicorn.sock (20)\u001b[0m\n",
      "\u001b[35m[2023-01-06 01:40:00 +0000] [20] [INFO] Using worker: gevent\u001b[0m\n",
      "\u001b[35m[2023-01-06 01:40:00 +0000] [27] [INFO] Booting worker with pid: 27\u001b[0m\n",
      "\u001b[35m[2023-01-06 01:40:00 +0000] [28] [INFO] Booting worker with pid: 28\u001b[0m\n",
      "\u001b[34m[2023-01-06 01:40:00 +0000] [29] [INFO] Booting worker with pid: 29\u001b[0m\n",
      "\u001b[34m[2023-01-06 01:40:00 +0000] [30] [INFO] Booting worker with pid: 30\u001b[0m\n",
      "\u001b[35m[2023-01-06 01:40:00 +0000] [29] [INFO] Booting worker with pid: 29\u001b[0m\n",
      "\u001b[35m[2023-01-06 01:40:00 +0000] [30] [INFO] Booting worker with pid: 30\u001b[0m\n",
      "\u001b[34m[2023-01-06:01:40:06:INFO] No GPUs detected (normal if no gpus installed)\u001b[0m\n",
      "\u001b[34m169.254.255.130 - - [06/Jan/2023:01:40:06 +0000] \"GET /ping HTTP/1.1\" 200 0 \"-\" \"Go-http-client/1.1\"\u001b[0m\n",
      "\u001b[34m[2023-01-06:01:40:06:INFO] No GPUs detected (normal if no gpus installed)\u001b[0m\n",
      "\u001b[34m169.254.255.130 - - [06/Jan/2023:01:40:06 +0000] \"GET /execution-parameters HTTP/1.1\" 200 84 \"-\" \"Go-http-client/1.1\"\u001b[0m\n",
      "\u001b[35m[2023-01-06:01:40:06:INFO] No GPUs detected (normal if no gpus installed)\u001b[0m\n",
      "\u001b[35m169.254.255.130 - - [06/Jan/2023:01:40:06 +0000] \"GET /ping HTTP/1.1\" 200 0 \"-\" \"Go-http-client/1.1\"\u001b[0m\n",
      "\u001b[35m[2023-01-06:01:40:06:INFO] No GPUs detected (normal if no gpus installed)\u001b[0m\n",
      "\u001b[35m169.254.255.130 - - [06/Jan/2023:01:40:06 +0000] \"GET /execution-parameters HTTP/1.1\" 200 84 \"-\" \"Go-http-client/1.1\"\u001b[0m\n",
      "\u001b[34m[2023-01-06:01:40:06:INFO] No GPUs detected (normal if no gpus installed)\u001b[0m\n",
      "\u001b[34m[2023-01-06:01:40:06:INFO] Determined delimiter of CSV input is ','\u001b[0m\n",
      "\u001b[34m[2023-01-06:01:40:07:INFO] Loading model file '/opt/ml/model/xgboost-model'\u001b[0m\n",
      "\u001b[34m169.254.255.130 - - [06/Jan/2023:01:40:07 +0000] \"POST /invocations HTTP/1.1\" 200 131825 \"-\" \"Go-http-client/1.1\"\u001b[0m\n",
      "\u001b[35m[2023-01-06:01:40:06:INFO] No GPUs detected (normal if no gpus installed)\u001b[0m\n",
      "\u001b[35m[2023-01-06:01:40:06:INFO] Determined delimiter of CSV input is ','\u001b[0m\n",
      "\u001b[35m[2023-01-06:01:40:07:INFO] Loading model file '/opt/ml/model/xgboost-model'\u001b[0m\n",
      "\u001b[35m169.254.255.130 - - [06/Jan/2023:01:40:07 +0000] \"POST /invocations HTTP/1.1\" 200 131825 \"-\" \"Go-http-client/1.1\"\u001b[0m\n",
      "\u001b[32m2023-01-06T01:40:06.770:[sagemaker logs]: MaxConcurrentTransforms=4, MaxPayloadInMB=6, BatchStrategy=MULTI_RECORD\u001b[0m\n"
     ]
    }
   ],
   "source": [
    "transformer.transform(\n",
    "    data=batch_input, \n",
    "    data_type='S3Prefix',\n",
    "    content_type='text/csv', \n",
    "    split_type='Line'\n",
    ")\n",
    "transformer.wait()"
   ]
  },
  {
   "cell_type": "markdown",
   "id": "af6c0fb6-813e-498b-a0eb-7720aa54a28b",
   "metadata": {},
   "source": [
    "5. When the batch transform job is complete, SageMaker creates the test.csv.out prediction data saved in the batch_output path, which should be in the following format: \n",
    "\n",
    "    s3://sagemaker-<region>-111122223333/demo-sagemaker-xgboost-adult-income-prediction/batch-prediction \n",
    "    \n",
    "Run the following AWS CLI to download the output data of the batch transform job:"
   ]
  },
  {
   "cell_type": "code",
   "execution_count": 70,
   "id": "bf24d4ed-b691-45ef-aa98-3d0aefc3ff77",
   "metadata": {},
   "outputs": [
    {
     "name": "stdout",
     "output_type": "stream",
     "text": [
      "download: s3://sagemaker-us-east-1-516077839494/demo-sagemaker-xgboost-adult-income-prediction/batch-prediction/test.csv.out to ./test.csv.out\n"
     ]
    }
   ],
   "source": [
    "! aws s3 cp {batch_output} ./ --recursive"
   ]
  },
  {
   "cell_type": "markdown",
   "id": "81559045-fb68-43cb-96d7-80a5a5974123",
   "metadata": {},
   "source": [
    "This should create the test.csv.out file under the current working directory. You'll be able to see the float values that are predicted based on the logistic regression of the XGBoost training job."
   ]
  },
  {
   "cell_type": "markdown",
   "id": "acb188b0-e959-4f9f-bf87-9193157e62ce",
   "metadata": {},
   "source": [
    "# Evaluate the Model"
   ]
  },
  {
   "cell_type": "markdown",
   "id": "e7108611-16b4-443d-9e0c-2969789fdb9c",
   "metadata": {},
   "source": [
    "Now that you have trained and deployed a model using Amazon SageMaker, evaluate the model to ensure that it generates accurate predictions on new data. For model evaluation, use the test dataset that you created in Step 3: Download, Explore, and Transform a Dataset"
   ]
  },
  {
   "cell_type": "markdown",
   "id": "bcbd413a-10ca-4128-b2fb-0f6bbf7828fe",
   "metadata": {},
   "source": [
    "## Evaluate the Model Deployed to SageMaker Hosting Services"
   ]
  },
  {
   "cell_type": "markdown",
   "id": "ab2cff12-832e-4e57-8ebb-0467c47fde67",
   "metadata": {},
   "source": [
    "To evaluate the model and use it in production, invoke the endpoint with the test dataset and check whether the inferences you get returns a target accuracy you want to achieve."
   ]
  },
  {
   "cell_type": "markdown",
   "id": "1a1e5299-c9e3-4a2e-b72b-6fc88e766760",
   "metadata": {},
   "source": [
    "1. Set up the following function to predict each line of the test set. In the following example code, the rows argument is to specify the number of lines to predict at a time. You can change the value of it to perform a batch inference that fully utilizes the instance's hardware resource."
   ]
  },
  {
   "cell_type": "code",
   "execution_count": 71,
   "id": "dd2699ea-9da3-4607-bb6d-39395a416835",
   "metadata": {},
   "outputs": [],
   "source": [
    "import numpy as np\n",
    "def predict(data, rows=1000):\n",
    "    split_array = np.array_split(data, int(data.shape[0] / float(rows) + 1))\n",
    "    predictions = ''\n",
    "    for array in split_array:\n",
    "        predictions = ','.join([predictions, xgb_predictor.predict(array).decode('utf-8')])\n",
    "    return np.fromstring(predictions[1:], sep=',')"
   ]
  },
  {
   "cell_type": "markdown",
   "id": "bd17d9bb-82d7-49f9-af9e-799544fdcd18",
   "metadata": {},
   "source": [
    "2. Run the following code to make predictions of the test dataset and plot a histogram. You need to take only the feature columns of the test dataset, excluding the 0th column for the actual values."
   ]
  },
  {
   "cell_type": "code",
   "execution_count": 72,
   "id": "bb589a2f-9031-4f0a-8af7-b23cbd82db62",
   "metadata": {},
   "outputs": [
    {
     "data": {
      "image/png": "[encoded data removed]",
      "text/plain": [
       "<Figure size 432x288 with 1 Axes>"
      ]
     },
     "metadata": {
      "needs_background": "light"
     },
     "output_type": "display_data"
    }
   ],
   "source": [
    "import matplotlib.pyplot as plt\n",
    "\n",
    "predictions=predict(test.to_numpy()[:,1:])\n",
    "plt.hist(predictions)\n",
    "plt.show()"
   ]
  },
  {
   "cell_type": "markdown",
   "id": "86ef2669-e5fe-4297-aaeb-3caa6293da88",
   "metadata": {},
   "source": [
    "3. The predicted values are float type. To determine True or False based on the float values, you need to set a cutoff value. As shown in the following example code, use the Scikit-learn library to return the output confusion metrics and classification report with a cutoff of 0.5."
   ]
  },
  {
   "cell_type": "code",
   "execution_count": 73,
   "id": "a4560222-1108-498f-b425-771896f5c29e",
   "metadata": {},
   "outputs": [
    {
     "name": "stdout",
     "output_type": "stream",
     "text": [
      "[[4670  356]\n",
      " [ 480 1007]]\n",
      "              precision    recall  f1-score   support\n",
      "\n",
      "           0       0.91      0.93      0.92      5026\n",
      "           1       0.74      0.68      0.71      1487\n",
      "\n",
      "    accuracy                           0.87      6513\n",
      "   macro avg       0.82      0.80      0.81      6513\n",
      "weighted avg       0.87      0.87      0.87      6513\n",
      "\n"
     ]
    }
   ],
   "source": [
    "import sklearn\n",
    "\n",
    "cutoff=0.5\n",
    "print(sklearn.metrics.confusion_matrix(test.iloc[:, 0], np.where(predictions > cutoff, 1, 0)))\n",
    "print(sklearn.metrics.classification_report(test.iloc[:, 0], np.where(predictions > cutoff, 1, 0)))"
   ]
  },
  {
   "cell_type": "markdown",
   "id": "332dc272-a3d5-439e-a5ff-47192d6b94b2",
   "metadata": {},
   "source": [
    "4. To find the best cutoff with the given test set, compute the log loss function of the logistic regression. The log loss function is defined as the negative log-likelihood of a logistic model that returns prediction probabilities for its ground truth labels. The following example code numerically and iteratively calculates the log loss values (-(y*log(p)+(1-y)log(1-p)), where y is the true label and p is a probability estimate of the corresponding test sample. It returns a log loss versus cutoff graph."
   ]
  },
  {
   "cell_type": "code",
   "execution_count": 74,
   "id": "15f3e471-5944-4d4b-a690-008a0f24bab9",
   "metadata": {},
   "outputs": [
    {
     "data": {
      "image/png": "[encoded data removed]",
      "text/plain": [
       "<Figure size 1080x720 with 1 Axes>"
      ]
     },
     "metadata": {
      "needs_background": "light"
     },
     "output_type": "display_data"
    }
   ],
   "source": [
    "import matplotlib.pyplot as plt\n",
    "\n",
    "cutoffs = np.arange(0.01, 1, 0.01)\n",
    "log_loss = []\n",
    "for c in cutoffs:\n",
    "    log_loss.append(\n",
    "        sklearn.metrics.log_loss(test.iloc[:, 0], np.where(predictions > c, 1, 0))\n",
    "    )\n",
    "\n",
    "plt.figure(figsize=(15,10))\n",
    "plt.plot(cutoffs, log_loss)\n",
    "plt.xlabel(\"Cutoff\")\n",
    "plt.ylabel(\"Log loss\")\n",
    "plt.show()"
   ]
  },
  {
   "cell_type": "markdown",
   "id": "b84d7eb3-d587-455e-a7f8-20cb9469f71f",
   "metadata": {},
   "source": [
    "5. Find the minimum points of the error curve using the NumPy argmin and min functions:"
   ]
  },
  {
   "cell_type": "code",
   "execution_count": 75,
   "id": "b342bbf6-8524-44f8-99b5-e406316e7b52",
   "metadata": {},
   "outputs": [
    {
     "name": "stdout",
     "output_type": "stream",
     "text": [
      "Log loss is minimized at a cutoff of  0.53 , and the log loss value at the minimum is  4.348539186773897\n"
     ]
    }
   ],
   "source": [
    "print(\n",
    "    'Log loss is minimized at a cutoff of ', cutoffs[np.argmin(log_loss)], \n",
    "    ', and the log loss value at the minimum is ', np.min(log_loss)\n",
    ")"
   ]
  },
  {
   "cell_type": "markdown",
   "id": "77085053-43e4-43bb-bef8-3cf2fd950152",
   "metadata": {},
   "source": [
    "This should return: Log loss is minimized at a cutoff of 0.53, and the log loss value at the minimum is 4.348539186773897.\n",
    "\n",
    "Instead of computing and minimizing the log loss function, you can estimate a cost function as an alternative. For example, if you want to train a model to perform a binary classification for a business problem such as a customer churn prediction problem, you can set weights to the elements of confusion matrix and calculate the cost function accordingly."
   ]
  },
  {
   "cell_type": "markdown",
   "id": "7b606ed9-d609-44ca-a146-d5d3922f2bfc",
   "metadata": {},
   "source": [
    "**You have now trained, deployed, and evaluated your first model in SageMaker.**"
   ]
  },
  {
   "cell_type": "markdown",
   "id": "866203f3-54d0-4586-a993-8d73bdcec903",
   "metadata": {},
   "source": [
    "# Clean Up"
   ]
  },
  {
   "cell_type": "markdown",
   "id": "aa6e4686-a355-4cf1-9521-124881c73a5f",
   "metadata": {},
   "source": [
    "1. Open the Amazon SageMaker console at https://console.aws.amazon.com/sagemaker/ and delete the following resources:\n",
    "\n",
    "    - **The endpoint.** Deleting the endpoint also deletes the ML compute instance or instances that support it.\n",
    "\n",
    "        a. Under Inference, choose Endpoints.\n",
    "\n",
    "        b. Choose the endpoint that you created in the example, choose Actions, and then choose Delete.\n",
    "\n",
    "    - **The endpoint configuration.**\n",
    "\n",
    "        a. Under Inference, choose Endpoint configurations.\n",
    "\n",
    "        b. Choose the endpoint configuration that you created in the example, choose Actions, and then choose Delete.\n",
    "\n",
    "    - **The model.**\n",
    "\n",
    "        a. Under Inference, choose Models.\n",
    "\n",
    "        b. Choose the model that you created in the example, choose Actions, and then choose Delete.\n",
    "\n",
    "    - **The notebook instance.** Before deleting the notebook instance, stop it.\n",
    "\n",
    "        a. Under Notebook, choose Notebook instances.\n",
    "\n",
    "        b. Choose the notebook instance that you created in the example, choose Actions, and then choose Stop. The notebook instance takes several minutes to stop. When the Status changes to Stopped, move on to the next step.\n",
    "\n",
    "        c. Choose Actions, and then choose Delete.\n",
    "\n",
    "2. Open the Amazon S3 console at https://console.aws.amazon.com/s3/, and then delete the bucket that you created for storing model artifacts and the training dataset.\n",
    "\n",
    "3. Open the Amazon CloudWatch console at https://console.aws.amazon.com/cloudwatch/, and then delete all of the log groups that have names starting with /aws/sagemaker/."
   ]
  },
  {
   "cell_type": "code",
   "execution_count": null,
   "id": "57df8ecb-4273-412f-acbc-37f978f57948",
   "metadata": {},
   "outputs": [],
   "source": []
  }
 ],
 "metadata": {
  "instance_type": "ml.t3.medium",
  "kernelspec": {
   "display_name": "Python 3 (Data Science)",
   "language": "python",
   "name": "python3__SAGEMAKER_INTERNAL__arn:aws:sagemaker:us-east-1:081325390199:image/datascience-1.0"
  },
  "language_info": {
   "codemirror_mode": {
    "name": "ipython",
    "version": 3
   },
   "file_extension": ".py",
   "mimetype": "text/x-python",
   "name": "python",
   "nbconvert_exporter": "python",
   "pygments_lexer": "ipython3",
   "version": "3.7.10"
  }
 },
 "nbformat": 4,
 "nbformat_minor": 5
}
